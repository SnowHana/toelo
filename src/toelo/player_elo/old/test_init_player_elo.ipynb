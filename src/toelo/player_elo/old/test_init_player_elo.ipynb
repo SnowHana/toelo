{
 "cells": [
  {
   "cell_type": "code",
   "execution_count": 1,
   "id": "initial_id",
   "metadata": {
    "collapsed": true,
    "ExecuteTime": {
     "end_time": "2024-11-05T09:15:12.232716Z",
     "start_time": "2024-11-05T09:14:50.583673Z"
    }
   },
   "outputs": [
    {
     "name": "stdout",
     "output_type": "stream",
     "text": [
      "game_lineups_df (2191911, 10)\n",
      "competitions_df (44, 11)\n",
      "appearances_df (1610495, 13)\n",
      "player_valuations_df (486009, 5)\n",
      "game_events_df (761513, 10)\n",
      "transfers_df (77585, 10)\n",
      "players_df (32392, 23)\n",
      "games_df (69635, 23)\n",
      "club_games_df (139270, 11)\n",
      "players_elo_df (240593, 9)\n",
      "clubs_df (439, 17)\n",
      "Data imported\n"
     ]
    }
   ],
   "source": [
    "\n",
    "import os\n",
    "from pathlib import Path\n",
    "import pandas as pd\n",
    "import datetime\n",
    "from datetime import datetime\n",
    "\n",
    "\n",
    "def import_data_from_csv() -> dict:\n",
    "    \"\"\"Read data from csv files (prepared by transfermrkt dataset)\n",
    "\n",
    "    Returns:\n",
    "        list[pd.DataFrame] : list of dataframes (single csv to single dataframe)\n",
    "    \"\"\"\n",
    "\n",
    "    # NOTE: This wont work for jupyter so we are using sth else for now\n",
    "    # # Get the absolute path of the current script (jupyter dir)\n",
    "    # BASE_DIR = Path(__file__).resolve().parent\n",
    "        \n",
    "    # NOTE: Later when we are converting this into an actual python file, comment this line  \n",
    "    # Define the base and data directories\n",
    "    BASE_DIR = Path.cwd()\n",
    "    DATA_DIR = BASE_DIR.parents[0] / \"data\" / \"transfer_data\"\n",
    "    # CLUBS_FILE = \"clubs.csv\"\n",
    "    # ELOS_FILE = \"club_elo_2024-09-21.csv\"\n",
    "    # # Load CSV data\n",
    "    # # fbref_df = pd.read_csv(os.path.join(DATA_DIR, FBREF_FILE), sep=',', encoding='UTF-8')\n",
    "    # clubs_df = pd.read_csv(os.path.join(DATA_DIR, CLUBS_FILE), sep=\",\", encoding=\"UTF-8\")\n",
    "    # elos_df = pd.read_csv(os.path.join(DATA_DIR, ELOS_FILE), sep=\",\", encoding=\"UTF-8\")\n",
    "    # elos_df = elos_df.head(632)  # Restrict the ELO data to the first 632 rows\n",
    "\n",
    "    # # Build the path to the data directory\n",
    "    # DATA_DIR = BASE_DIR / \"transfer_data\"\n",
    "\n",
    "    # BASE_DIR = Path.cwd()\n",
    "\n",
    "    # Build the path to the data directory\n",
    "\n",
    "    # # Example of using the path to the data directory\n",
    "    # csv_file = DATA_DIR / 'your_file.csv'\n",
    "    # print(csv_file)\n",
    "\n",
    "    # import all files in Data folder and read into dataframes\n",
    "    dataframes = {}\n",
    "\n",
    "    \n",
    "\n",
    "    # Actual reading csv flies\n",
    "    for dirpath, dirname, filenames in os.walk(DATA_DIR):\n",
    "        for filename in filenames:\n",
    "            file = filename.split(\".\")\n",
    "            file = file[0] + \"_df\"\n",
    "            if file != \"_df\":\n",
    "                filepath = os.path.join(dirpath, filename)\n",
    "                df = pd.read_csv(filepath, sep=\",\", encoding=\"UTF-8\")\n",
    "                exec(f\"{file} = df.copy()\")\n",
    "                print(file, df.shape)\n",
    "                dataframes[file] = df.copy()\n",
    "    print(\"Data imported\")\n",
    "\n",
    "    return dataframes\n",
    "\n",
    "competitions_df = pd.DataFrame()\n",
    "appearances_df = pd.DataFrame()\n",
    "player_valuations_df = pd.DataFrame()\n",
    "game_events_df = pd.DataFrame()\n",
    "players_df = pd.DataFrame()\n",
    "games_df = pd.DataFrame()\n",
    "club_games_df = pd.DataFrame()\n",
    "clubs_df = pd.DataFrame()\n",
    "players_elo_df = pd.DataFrame()\n",
    "dataframes = import_data_from_csv()\n",
    "\n",
    "for file_name, dataframe in dataframes.items():\n",
    "    exec(f\"{file_name} = dataframe.copy()\")\n",
    "    # print(file_name)"
   ]
  },
  {
   "cell_type": "code",
   "outputs": [
    {
     "name": "stdout",
     "output_type": "stream",
     "text": [
      "game_lineups_df: game_lineups_id    object\n",
      "date               object\n",
      "game_id             int64\n",
      "player_id           int64\n",
      "club_id             int64\n",
      "player_name        object\n",
      "type               object\n",
      "position           object\n",
      "number             object\n",
      "team_captain        int64\n",
      "dtype: object\n",
      "competitions_df: competition_id              object\n",
      "competition_code            object\n",
      "name                        object\n",
      "sub_type                    object\n",
      "type                        object\n",
      "country_id                   int64\n",
      "country_name                object\n",
      "domestic_league_code        object\n",
      "confederation               object\n",
      "url                         object\n",
      "is_major_national_league      bool\n",
      "dtype: object\n",
      "appearances_df: appearance_id             object\n",
      "game_id                    int64\n",
      "player_id                  int64\n",
      "player_club_id             int64\n",
      "player_current_club_id     int64\n",
      "date                      object\n",
      "player_name               object\n",
      "competition_id            object\n",
      "yellow_cards               int64\n",
      "red_cards                  int64\n",
      "goals                      int64\n",
      "assists                    int64\n",
      "minutes_played             int64\n",
      "dtype: object\n",
      "player_valuations_df: player_id                               int64\n",
      "date                                   object\n",
      "market_value_in_eur                     int64\n",
      "current_club_id                         int64\n",
      "player_club_domestic_competition_id    object\n",
      "dtype: object\n",
      "game_events_df: game_event_id        object\n",
      "date                 object\n",
      "game_id               int64\n",
      "minute                int64\n",
      "type                 object\n",
      "club_id               int64\n",
      "player_id             int64\n",
      "description          object\n",
      "player_in_id        float64\n",
      "player_assist_id    float64\n",
      "dtype: object\n",
      "transfers_df: player_id                int64\n",
      "transfer_date           object\n",
      "transfer_season         object\n",
      "from_club_id             int64\n",
      "to_club_id               int64\n",
      "from_club_name          object\n",
      "to_club_name            object\n",
      "transfer_fee           float64\n",
      "market_value_in_eur    float64\n",
      "player_name             object\n",
      "dtype: object\n",
      "players_df: player_id                                 int64\n",
      "first_name                               object\n",
      "last_name                                object\n",
      "name                                     object\n",
      "last_season                               int64\n",
      "current_club_id                           int64\n",
      "player_code                              object\n",
      "country_of_birth                         object\n",
      "city_of_birth                            object\n",
      "country_of_citizenship                   object\n",
      "date_of_birth                            object\n",
      "sub_position                             object\n",
      "position                                 object\n",
      "foot                                     object\n",
      "height_in_cm                            float64\n",
      "contract_expiration_date                 object\n",
      "agent_name                               object\n",
      "image_url                                object\n",
      "url                                      object\n",
      "current_club_domestic_competition_id     object\n",
      "current_club_name                        object\n",
      "market_value_in_eur                     float64\n",
      "highest_market_value_in_eur             float64\n",
      "dtype: object\n",
      "games_df: game_id                     int64\n",
      "competition_id             object\n",
      "season                      int64\n",
      "round                      object\n",
      "date                       object\n",
      "home_club_id                int64\n",
      "away_club_id                int64\n",
      "home_club_goals             int64\n",
      "away_club_goals             int64\n",
      "home_club_position        float64\n",
      "away_club_position        float64\n",
      "home_club_manager_name     object\n",
      "away_club_manager_name     object\n",
      "stadium                    object\n",
      "attendance                float64\n",
      "referee                    object\n",
      "url                        object\n",
      "home_club_formation        object\n",
      "away_club_formation        object\n",
      "home_club_name             object\n",
      "away_club_name             object\n",
      "aggregate                  object\n",
      "competition_type           object\n",
      "dtype: object\n",
      "club_games_df: game_id                    int64\n",
      "club_id                    int64\n",
      "own_goals                  int64\n",
      "own_position             float64\n",
      "own_manager_name          object\n",
      "opponent_id                int64\n",
      "opponent_goals             int64\n",
      "opponent_position        float64\n",
      "opponent_manager_name     object\n",
      "hosting                   object\n",
      "is_win                     int64\n",
      "dtype: object\n",
      "players_elo_df: player_id             int64\n",
      "season              float64\n",
      "first_name           object\n",
      "last_name            object\n",
      "name                 object\n",
      "player_code          object\n",
      "country_of_birth     object\n",
      "date_of_birth        object\n",
      "elo                 float64\n",
      "dtype: object\n",
      "clubs_df: club_id                      int64\n",
      "club_code                   object\n",
      "name                        object\n",
      "domestic_competition_id     object\n",
      "total_market_value         float64\n",
      "squad_size                   int64\n",
      "average_age                float64\n",
      "foreigners_number            int64\n",
      "foreigners_percentage      float64\n",
      "national_team_players        int64\n",
      "stadium_name                object\n",
      "stadium_seats                int64\n",
      "net_transfer_record         object\n",
      "coach_name                 float64\n",
      "last_season                  int64\n",
      "filename                    object\n",
      "url                         object\n",
      "dtype: object\n"
     ]
    }
   ],
   "source": [
    "for file_name, dataframe in dataframes.items():\n",
    "    print(f\"{file_name}: {dataframe.dtypes}\")"
   ],
   "metadata": {
    "collapsed": false,
    "ExecuteTime": {
     "end_time": "2024-11-05T09:15:24.538521Z",
     "start_time": "2024-11-05T09:15:24.518236Z"
    }
   },
   "id": "34db8242bc3bc8e1",
   "execution_count": 2
  },
  {
   "cell_type": "code",
   "outputs": [
    {
     "data": {
      "text/plain": "        player_id  season first_name   last_name               name  \\\n27299       28003  2012.0     Lionel       Messi       Lionel Messi   \n2087         3332  2012.0      Wayne      Rooney       Wayne Rooney   \n72661       68290  2013.0        NaN      Neymar             Neymar   \n50735       48280  2012.0    Edinson      Cavani     Edinson Cavani   \n25793       26399  2012.0     Sergio      Agüero      Sergio Agüero   \n...           ...     ...        ...         ...                ...   \n236126     817790  2022.0     Ismail     Dibirov     Ismail Dibirov   \n237173     866756  2021.0   Abubakar    Inalkaev  Abubakar Inalkaev   \n235467     801420  2021.0    Killian    Phillips   Killian Phillips   \n240346    1159925  2023.0     Sergiy  Korniychuk  Sergiy Korniychuk   \n240457    1189253  2023.0  Vladyslav      Klymak   Vladyslav Klymak   \n\n              player_code country_of_birth        date_of_birth          elo  \n27299        lionel-messi        Argentina  1987-06-24 00:00:00  2038.134970  \n2087         wayne-rooney          England  1985-10-24 00:00:00  1975.066509  \n72661              neymar           Brazil  1992-02-05 00:00:00  1970.224124  \n50735      edinson-cavani          Uruguay  1987-02-14 00:00:00  1937.239619  \n25793       sergio-aguero        Argentina  1988-06-02 00:00:00  1937.239619  \n...                   ...              ...                  ...          ...  \n236126     ismail-dibirov              NaN  2004-07-15 00:00:00  1127.369017  \n237173  abubakar-inalkaev              NaN  2004-07-31 00:00:00  1119.267265  \n235467   killian-phillips    United States  2002-03-30 00:00:00  1119.267265  \n240346  sergiy-korniychuk          Ukraine  2004-06-25 00:00:00  1105.019000  \n240457   vladyslav-klymak          Ukraine  2004-06-15 00:00:00  1105.019000  \n\n[25291 rows x 9 columns]",
      "text/html": "<div>\n<style scoped>\n    .dataframe tbody tr th:only-of-type {\n        vertical-align: middle;\n    }\n\n    .dataframe tbody tr th {\n        vertical-align: top;\n    }\n\n    .dataframe thead th {\n        text-align: right;\n    }\n</style>\n<table border=\"1\" class=\"dataframe\">\n  <thead>\n    <tr style=\"text-align: right;\">\n      <th></th>\n      <th>player_id</th>\n      <th>season</th>\n      <th>first_name</th>\n      <th>last_name</th>\n      <th>name</th>\n      <th>player_code</th>\n      <th>country_of_birth</th>\n      <th>date_of_birth</th>\n      <th>elo</th>\n    </tr>\n  </thead>\n  <tbody>\n    <tr>\n      <th>27299</th>\n      <td>28003</td>\n      <td>2012.0</td>\n      <td>Lionel</td>\n      <td>Messi</td>\n      <td>Lionel Messi</td>\n      <td>lionel-messi</td>\n      <td>Argentina</td>\n      <td>1987-06-24 00:00:00</td>\n      <td>2038.134970</td>\n    </tr>\n    <tr>\n      <th>2087</th>\n      <td>3332</td>\n      <td>2012.0</td>\n      <td>Wayne</td>\n      <td>Rooney</td>\n      <td>Wayne Rooney</td>\n      <td>wayne-rooney</td>\n      <td>England</td>\n      <td>1985-10-24 00:00:00</td>\n      <td>1975.066509</td>\n    </tr>\n    <tr>\n      <th>72661</th>\n      <td>68290</td>\n      <td>2013.0</td>\n      <td>NaN</td>\n      <td>Neymar</td>\n      <td>Neymar</td>\n      <td>neymar</td>\n      <td>Brazil</td>\n      <td>1992-02-05 00:00:00</td>\n      <td>1970.224124</td>\n    </tr>\n    <tr>\n      <th>50735</th>\n      <td>48280</td>\n      <td>2012.0</td>\n      <td>Edinson</td>\n      <td>Cavani</td>\n      <td>Edinson Cavani</td>\n      <td>edinson-cavani</td>\n      <td>Uruguay</td>\n      <td>1987-02-14 00:00:00</td>\n      <td>1937.239619</td>\n    </tr>\n    <tr>\n      <th>25793</th>\n      <td>26399</td>\n      <td>2012.0</td>\n      <td>Sergio</td>\n      <td>Agüero</td>\n      <td>Sergio Agüero</td>\n      <td>sergio-aguero</td>\n      <td>Argentina</td>\n      <td>1988-06-02 00:00:00</td>\n      <td>1937.239619</td>\n    </tr>\n    <tr>\n      <th>...</th>\n      <td>...</td>\n      <td>...</td>\n      <td>...</td>\n      <td>...</td>\n      <td>...</td>\n      <td>...</td>\n      <td>...</td>\n      <td>...</td>\n      <td>...</td>\n    </tr>\n    <tr>\n      <th>236126</th>\n      <td>817790</td>\n      <td>2022.0</td>\n      <td>Ismail</td>\n      <td>Dibirov</td>\n      <td>Ismail Dibirov</td>\n      <td>ismail-dibirov</td>\n      <td>NaN</td>\n      <td>2004-07-15 00:00:00</td>\n      <td>1127.369017</td>\n    </tr>\n    <tr>\n      <th>237173</th>\n      <td>866756</td>\n      <td>2021.0</td>\n      <td>Abubakar</td>\n      <td>Inalkaev</td>\n      <td>Abubakar Inalkaev</td>\n      <td>abubakar-inalkaev</td>\n      <td>NaN</td>\n      <td>2004-07-31 00:00:00</td>\n      <td>1119.267265</td>\n    </tr>\n    <tr>\n      <th>235467</th>\n      <td>801420</td>\n      <td>2021.0</td>\n      <td>Killian</td>\n      <td>Phillips</td>\n      <td>Killian Phillips</td>\n      <td>killian-phillips</td>\n      <td>United States</td>\n      <td>2002-03-30 00:00:00</td>\n      <td>1119.267265</td>\n    </tr>\n    <tr>\n      <th>240346</th>\n      <td>1159925</td>\n      <td>2023.0</td>\n      <td>Sergiy</td>\n      <td>Korniychuk</td>\n      <td>Sergiy Korniychuk</td>\n      <td>sergiy-korniychuk</td>\n      <td>Ukraine</td>\n      <td>2004-06-25 00:00:00</td>\n      <td>1105.019000</td>\n    </tr>\n    <tr>\n      <th>240457</th>\n      <td>1189253</td>\n      <td>2023.0</td>\n      <td>Vladyslav</td>\n      <td>Klymak</td>\n      <td>Vladyslav Klymak</td>\n      <td>vladyslav-klymak</td>\n      <td>Ukraine</td>\n      <td>2004-06-15 00:00:00</td>\n      <td>1105.019000</td>\n    </tr>\n  </tbody>\n</table>\n<p>25291 rows × 9 columns</p>\n</div>"
     },
     "execution_count": 15,
     "metadata": {},
     "output_type": "execute_result"
    }
   ],
   "source": [
    "df = players_elo_df[players_elo_df['elo'].notna()]\n",
    "# df = pd.merge(appearances_df, players_elo_df, on=\"player_id\", how=\"inner\")\n",
    "df.sort_values(by=['elo'], ascending=False)"
   ],
   "metadata": {
    "collapsed": false,
    "ExecuteTime": {
     "end_time": "2024-11-03T13:27:29.231029Z",
     "start_time": "2024-11-03T13:27:28.986402Z"
    }
   },
   "id": "337c9155a0d587d2",
   "execution_count": 15
  },
  {
   "cell_type": "code",
   "outputs": [
    {
     "data": {
      "text/plain": "       player_id       date  market_value_in_eur  current_club_id  \\\n65071       1197 2012-01-01               500000              678   \n65072       2703 2012-01-01               750000              173   \n65073       3159 2012-01-01               400000              130   \n65074       3713 2012-01-01              1000000              749   \n65075       4337 2012-01-01               500000             1053   \n...          ...        ...                  ...              ...   \n84170     192192 2012-12-31               150000             8838   \n84171     206053 2012-12-31               250000            16247   \n84172     220671 2012-12-31                75000            40426   \n84173     237947 2012-12-31               200000            16247   \n84174     244133 2012-12-31                25000             3609   \n\n      player_club_domestic_competition_id  \n65071                                 DK1  \n65072                                 DK1  \n65073                                 IT1  \n65074                                 IT1  \n65075                                 DK1  \n...                                   ...  \n84170                                UKR1  \n84171                                UKR1  \n84172                                 RU1  \n84173                                UKR1  \n84174                                 RU1  \n\n[19104 rows x 5 columns]",
      "text/html": "<div>\n<style scoped>\n    .dataframe tbody tr th:only-of-type {\n        vertical-align: middle;\n    }\n\n    .dataframe tbody tr th {\n        vertical-align: top;\n    }\n\n    .dataframe thead th {\n        text-align: right;\n    }\n</style>\n<table border=\"1\" class=\"dataframe\">\n  <thead>\n    <tr style=\"text-align: right;\">\n      <th></th>\n      <th>player_id</th>\n      <th>date</th>\n      <th>market_value_in_eur</th>\n      <th>current_club_id</th>\n      <th>player_club_domestic_competition_id</th>\n    </tr>\n  </thead>\n  <tbody>\n    <tr>\n      <th>65071</th>\n      <td>1197</td>\n      <td>2012-01-01</td>\n      <td>500000</td>\n      <td>678</td>\n      <td>DK1</td>\n    </tr>\n    <tr>\n      <th>65072</th>\n      <td>2703</td>\n      <td>2012-01-01</td>\n      <td>750000</td>\n      <td>173</td>\n      <td>DK1</td>\n    </tr>\n    <tr>\n      <th>65073</th>\n      <td>3159</td>\n      <td>2012-01-01</td>\n      <td>400000</td>\n      <td>130</td>\n      <td>IT1</td>\n    </tr>\n    <tr>\n      <th>65074</th>\n      <td>3713</td>\n      <td>2012-01-01</td>\n      <td>1000000</td>\n      <td>749</td>\n      <td>IT1</td>\n    </tr>\n    <tr>\n      <th>65075</th>\n      <td>4337</td>\n      <td>2012-01-01</td>\n      <td>500000</td>\n      <td>1053</td>\n      <td>DK1</td>\n    </tr>\n    <tr>\n      <th>...</th>\n      <td>...</td>\n      <td>...</td>\n      <td>...</td>\n      <td>...</td>\n      <td>...</td>\n    </tr>\n    <tr>\n      <th>84170</th>\n      <td>192192</td>\n      <td>2012-12-31</td>\n      <td>150000</td>\n      <td>8838</td>\n      <td>UKR1</td>\n    </tr>\n    <tr>\n      <th>84171</th>\n      <td>206053</td>\n      <td>2012-12-31</td>\n      <td>250000</td>\n      <td>16247</td>\n      <td>UKR1</td>\n    </tr>\n    <tr>\n      <th>84172</th>\n      <td>220671</td>\n      <td>2012-12-31</td>\n      <td>75000</td>\n      <td>40426</td>\n      <td>RU1</td>\n    </tr>\n    <tr>\n      <th>84173</th>\n      <td>237947</td>\n      <td>2012-12-31</td>\n      <td>200000</td>\n      <td>16247</td>\n      <td>UKR1</td>\n    </tr>\n    <tr>\n      <th>84174</th>\n      <td>244133</td>\n      <td>2012-12-31</td>\n      <td>25000</td>\n      <td>3609</td>\n      <td>RU1</td>\n    </tr>\n  </tbody>\n</table>\n<p>19104 rows × 5 columns</p>\n</div>"
     },
     "execution_count": 18,
     "metadata": {},
     "output_type": "execute_result"
    }
   ],
   "source": [
    "player_valuations_df['date'] = pd.to_datetime(player_valuations_df['date'])\n",
    "player_valuations_df[player_valuations_df['date'].dt.year == 2012]"
   ],
   "metadata": {
    "collapsed": false,
    "ExecuteTime": {
     "end_time": "2024-11-03T13:32:34.738258Z",
     "start_time": "2024-11-03T13:32:34.567060Z"
    }
   },
   "id": "6b2b0dbf41216c70",
   "execution_count": 18
  },
  {
   "cell_type": "code",
   "outputs": [],
   "source": [
    "df = pd.merge(appearances_df, players_elo_df, on=\"player_id\", how=\"inner\")"
   ],
   "metadata": {
    "collapsed": false,
    "ExecuteTime": {
     "end_time": "2024-11-03T12:35:59.856762Z",
     "start_time": "2024-11-03T12:35:57.033254Z"
    }
   },
   "id": "927905c37bcefb32",
   "execution_count": 5
  },
  {
   "cell_type": "code",
   "outputs": [
    {
     "data": {
      "text/plain": "          appearance_id  game_id  player_id  player_club_id  \\\n0         2231978_38004  2231978      38004             853   \n1         2233748_79232  2233748      79232            8841   \n2         2234413_42792  2234413      42792            6251   \n3         2234418_73333  2234418      73333            1274   \n4        2234421_122011  2234421     122011             195   \n...                 ...      ...        ...             ...   \n1610484  4451012_617754  4451012     617754            1053   \n1610485  4451012_627208  4451012     627208            1053   \n1610486  4451012_634848  4451012     634848            1053   \n1610487  4451012_666563  4451012     666563            1053   \n1610488  4451012_805056  4451012     805056            1053   \n\n         player_current_club_id        date       player_name competition_id  \\\n0                           235  2012-07-03  Aurélien Joachim            CLQ   \n1                          2698  2012-07-05    Ruslan Abyshov            ELQ   \n2                           465  2012-07-05       Sander Puri            ELQ   \n3                          6646  2012-07-05   Vegar Hedenstad            ELQ   \n4                          3008  2012-07-05  Markus Henriksen            ELQ   \n...                         ...         ...               ...            ...   \n1610484                    1053  2024-09-19    Mylian Jiménez            DKP   \n1610485                    1053  2024-09-19     Andres Jasson            DKP   \n1610486                    1053  2024-09-19    Jubril Adedeji            DKP   \n1610487                    1053  2024-09-19       Kelvin John            DKP   \n1610488                    1053  2024-09-19       Oliver Ross            DKP   \n\n         yellow_cards  red_cards  ...  minutes_played  Unnamed: 0  season  \\\n0                   0          0  ...              90       38735  2012.0   \n1                   0          0  ...              90       81137  2012.0   \n2                   0          0  ...              45       43604  2012.0   \n3                   0          0  ...              90       76407  2012.0   \n4                   0          0  ...              90      104702  2012.0   \n...               ...        ...  ...             ...         ...     ...   \n1610484             0          0  ...              90      226632  2024.0   \n1610485             0          0  ...              23      227627  2024.0   \n1610486             1          0  ...              23      228288  2024.0   \n1610487             0          0  ...              90      230355  2021.0   \n1610488             0          0  ...              24      235607  2022.0   \n\n         first_name  last_name              name       player_code  \\\n0          Aurélien    Joachim  Aurélien Joachim  aurelien-joachim   \n1            Ruslan    Abyshov    Ruslan Abyshov    ruslan-abyshov   \n2            Sander       Puri       Sander Puri       sander-puri   \n3             Vegar  Hedenstad   Vegar Hedenstad   vegar-hedenstad   \n4            Markus  Henriksen  Markus Henriksen  markus-henriksen   \n...             ...        ...               ...               ...   \n1610484      Mylian    Jiménez    Mylian Jiménez    mylian-jimenez   \n1610485      Andres     Jasson     Andres Jasson     andres-jasson   \n1610486      Jubril    Adedeji    Jubril Adedeji    jubril-adedeji   \n1610487      Kelvin       John       Kelvin John       kelvin-john   \n1610488      Oliver       Ross       Oliver Ross       oliver-ross   \n\n        country_of_birth        date_of_birth          elo  \n0                Belgium  1986-08-10 00:00:00  1421.808953  \n1                  UdSSR  1987-10-10 00:00:00  1451.401973  \n2                  UdSSR  1988-05-07 00:00:00  1366.364031  \n3                 Norway  1991-06-26 00:00:00  1568.612436  \n4                 Norway  1992-07-25 00:00:00  1639.914641  \n...                  ...                  ...          ...  \n1610484      Netherlands  2003-01-13 00:00:00  1500.000000  \n1610485    United States  2002-01-17 00:00:00  1500.000000  \n1610486              NaN  2000-05-25 00:00:00  1500.000000  \n1610487         Tanzania  2003-06-10 00:00:00  1340.495718  \n1610488          Denmark  2004-10-10 00:00:00  1406.251372  \n\n[1610489 rows x 22 columns]",
      "text/html": "<div>\n<style scoped>\n    .dataframe tbody tr th:only-of-type {\n        vertical-align: middle;\n    }\n\n    .dataframe tbody tr th {\n        vertical-align: top;\n    }\n\n    .dataframe thead th {\n        text-align: right;\n    }\n</style>\n<table border=\"1\" class=\"dataframe\">\n  <thead>\n    <tr style=\"text-align: right;\">\n      <th></th>\n      <th>appearance_id</th>\n      <th>game_id</th>\n      <th>player_id</th>\n      <th>player_club_id</th>\n      <th>player_current_club_id</th>\n      <th>date</th>\n      <th>player_name</th>\n      <th>competition_id</th>\n      <th>yellow_cards</th>\n      <th>red_cards</th>\n      <th>...</th>\n      <th>minutes_played</th>\n      <th>Unnamed: 0</th>\n      <th>season</th>\n      <th>first_name</th>\n      <th>last_name</th>\n      <th>name</th>\n      <th>player_code</th>\n      <th>country_of_birth</th>\n      <th>date_of_birth</th>\n      <th>elo</th>\n    </tr>\n  </thead>\n  <tbody>\n    <tr>\n      <th>0</th>\n      <td>2231978_38004</td>\n      <td>2231978</td>\n      <td>38004</td>\n      <td>853</td>\n      <td>235</td>\n      <td>2012-07-03</td>\n      <td>Aurélien Joachim</td>\n      <td>CLQ</td>\n      <td>0</td>\n      <td>0</td>\n      <td>...</td>\n      <td>90</td>\n      <td>38735</td>\n      <td>2012.0</td>\n      <td>Aurélien</td>\n      <td>Joachim</td>\n      <td>Aurélien Joachim</td>\n      <td>aurelien-joachim</td>\n      <td>Belgium</td>\n      <td>1986-08-10 00:00:00</td>\n      <td>1421.808953</td>\n    </tr>\n    <tr>\n      <th>1</th>\n      <td>2233748_79232</td>\n      <td>2233748</td>\n      <td>79232</td>\n      <td>8841</td>\n      <td>2698</td>\n      <td>2012-07-05</td>\n      <td>Ruslan Abyshov</td>\n      <td>ELQ</td>\n      <td>0</td>\n      <td>0</td>\n      <td>...</td>\n      <td>90</td>\n      <td>81137</td>\n      <td>2012.0</td>\n      <td>Ruslan</td>\n      <td>Abyshov</td>\n      <td>Ruslan Abyshov</td>\n      <td>ruslan-abyshov</td>\n      <td>UdSSR</td>\n      <td>1987-10-10 00:00:00</td>\n      <td>1451.401973</td>\n    </tr>\n    <tr>\n      <th>2</th>\n      <td>2234413_42792</td>\n      <td>2234413</td>\n      <td>42792</td>\n      <td>6251</td>\n      <td>465</td>\n      <td>2012-07-05</td>\n      <td>Sander Puri</td>\n      <td>ELQ</td>\n      <td>0</td>\n      <td>0</td>\n      <td>...</td>\n      <td>45</td>\n      <td>43604</td>\n      <td>2012.0</td>\n      <td>Sander</td>\n      <td>Puri</td>\n      <td>Sander Puri</td>\n      <td>sander-puri</td>\n      <td>UdSSR</td>\n      <td>1988-05-07 00:00:00</td>\n      <td>1366.364031</td>\n    </tr>\n    <tr>\n      <th>3</th>\n      <td>2234418_73333</td>\n      <td>2234418</td>\n      <td>73333</td>\n      <td>1274</td>\n      <td>6646</td>\n      <td>2012-07-05</td>\n      <td>Vegar Hedenstad</td>\n      <td>ELQ</td>\n      <td>0</td>\n      <td>0</td>\n      <td>...</td>\n      <td>90</td>\n      <td>76407</td>\n      <td>2012.0</td>\n      <td>Vegar</td>\n      <td>Hedenstad</td>\n      <td>Vegar Hedenstad</td>\n      <td>vegar-hedenstad</td>\n      <td>Norway</td>\n      <td>1991-06-26 00:00:00</td>\n      <td>1568.612436</td>\n    </tr>\n    <tr>\n      <th>4</th>\n      <td>2234421_122011</td>\n      <td>2234421</td>\n      <td>122011</td>\n      <td>195</td>\n      <td>3008</td>\n      <td>2012-07-05</td>\n      <td>Markus Henriksen</td>\n      <td>ELQ</td>\n      <td>0</td>\n      <td>0</td>\n      <td>...</td>\n      <td>90</td>\n      <td>104702</td>\n      <td>2012.0</td>\n      <td>Markus</td>\n      <td>Henriksen</td>\n      <td>Markus Henriksen</td>\n      <td>markus-henriksen</td>\n      <td>Norway</td>\n      <td>1992-07-25 00:00:00</td>\n      <td>1639.914641</td>\n    </tr>\n    <tr>\n      <th>...</th>\n      <td>...</td>\n      <td>...</td>\n      <td>...</td>\n      <td>...</td>\n      <td>...</td>\n      <td>...</td>\n      <td>...</td>\n      <td>...</td>\n      <td>...</td>\n      <td>...</td>\n      <td>...</td>\n      <td>...</td>\n      <td>...</td>\n      <td>...</td>\n      <td>...</td>\n      <td>...</td>\n      <td>...</td>\n      <td>...</td>\n      <td>...</td>\n      <td>...</td>\n      <td>...</td>\n    </tr>\n    <tr>\n      <th>1610484</th>\n      <td>4451012_617754</td>\n      <td>4451012</td>\n      <td>617754</td>\n      <td>1053</td>\n      <td>1053</td>\n      <td>2024-09-19</td>\n      <td>Mylian Jiménez</td>\n      <td>DKP</td>\n      <td>0</td>\n      <td>0</td>\n      <td>...</td>\n      <td>90</td>\n      <td>226632</td>\n      <td>2024.0</td>\n      <td>Mylian</td>\n      <td>Jiménez</td>\n      <td>Mylian Jiménez</td>\n      <td>mylian-jimenez</td>\n      <td>Netherlands</td>\n      <td>2003-01-13 00:00:00</td>\n      <td>1500.000000</td>\n    </tr>\n    <tr>\n      <th>1610485</th>\n      <td>4451012_627208</td>\n      <td>4451012</td>\n      <td>627208</td>\n      <td>1053</td>\n      <td>1053</td>\n      <td>2024-09-19</td>\n      <td>Andres Jasson</td>\n      <td>DKP</td>\n      <td>0</td>\n      <td>0</td>\n      <td>...</td>\n      <td>23</td>\n      <td>227627</td>\n      <td>2024.0</td>\n      <td>Andres</td>\n      <td>Jasson</td>\n      <td>Andres Jasson</td>\n      <td>andres-jasson</td>\n      <td>United States</td>\n      <td>2002-01-17 00:00:00</td>\n      <td>1500.000000</td>\n    </tr>\n    <tr>\n      <th>1610486</th>\n      <td>4451012_634848</td>\n      <td>4451012</td>\n      <td>634848</td>\n      <td>1053</td>\n      <td>1053</td>\n      <td>2024-09-19</td>\n      <td>Jubril Adedeji</td>\n      <td>DKP</td>\n      <td>1</td>\n      <td>0</td>\n      <td>...</td>\n      <td>23</td>\n      <td>228288</td>\n      <td>2024.0</td>\n      <td>Jubril</td>\n      <td>Adedeji</td>\n      <td>Jubril Adedeji</td>\n      <td>jubril-adedeji</td>\n      <td>NaN</td>\n      <td>2000-05-25 00:00:00</td>\n      <td>1500.000000</td>\n    </tr>\n    <tr>\n      <th>1610487</th>\n      <td>4451012_666563</td>\n      <td>4451012</td>\n      <td>666563</td>\n      <td>1053</td>\n      <td>1053</td>\n      <td>2024-09-19</td>\n      <td>Kelvin John</td>\n      <td>DKP</td>\n      <td>0</td>\n      <td>0</td>\n      <td>...</td>\n      <td>90</td>\n      <td>230355</td>\n      <td>2021.0</td>\n      <td>Kelvin</td>\n      <td>John</td>\n      <td>Kelvin John</td>\n      <td>kelvin-john</td>\n      <td>Tanzania</td>\n      <td>2003-06-10 00:00:00</td>\n      <td>1340.495718</td>\n    </tr>\n    <tr>\n      <th>1610488</th>\n      <td>4451012_805056</td>\n      <td>4451012</td>\n      <td>805056</td>\n      <td>1053</td>\n      <td>1053</td>\n      <td>2024-09-19</td>\n      <td>Oliver Ross</td>\n      <td>DKP</td>\n      <td>0</td>\n      <td>0</td>\n      <td>...</td>\n      <td>24</td>\n      <td>235607</td>\n      <td>2022.0</td>\n      <td>Oliver</td>\n      <td>Ross</td>\n      <td>Oliver Ross</td>\n      <td>oliver-ross</td>\n      <td>Denmark</td>\n      <td>2004-10-10 00:00:00</td>\n      <td>1406.251372</td>\n    </tr>\n  </tbody>\n</table>\n<p>1610489 rows × 22 columns</p>\n</div>"
     },
     "execution_count": 6,
     "metadata": {},
     "output_type": "execute_result"
    }
   ],
   "source": [
    "df"
   ],
   "metadata": {
    "collapsed": false,
    "ExecuteTime": {
     "end_time": "2024-11-03T12:36:03.829051Z",
     "start_time": "2024-11-03T12:36:02.386997Z"
    }
   },
   "id": "cf8ffd71868229a4",
   "execution_count": 6
  },
  {
   "cell_type": "code",
   "outputs": [
    {
     "data": {
      "text/plain": "           appearance_id  game_id  player_id  player_club_id  \\\n80486      2243102_28003  2243102      28003             131   \n26474      2242837_28003  2242837      28003             131   \n764412     2899853_28003  2899853      28003             131   \n140681     2348142_28003  2348142      28003             131   \n401744     2594471_28003  2594471      28003             131   \n...                  ...      ...        ...             ...   \n1448871  4131286_1159925  4131286    1159925           61761   \n1552740  4120713_1159925  4120713    1159925           61825   \n1570332  4120754_1159925  4120754    1159925           61825   \n1576955  4120768_1159925  4120768    1159925           61825   \n1582857  4120787_1159925  4120787    1159925           61825   \n\n         player_current_club_id        date        player_name competition_id  \\\n80486                       583  2013-01-27       Lionel Messi            ES1   \n26474                       583  2012-09-29       Lionel Messi            ES1   \n764412                      583  2018-04-07       Lionel Messi            ES1   \n140681                      583  2013-08-21       Lionel Messi            SUC   \n401744                      583  2015-08-23       Lionel Messi            ES1   \n...                         ...         ...                ...            ...   \n1448871                   53646  2023-08-02  Sergiy Korniychuk           UKRP   \n1552740                   53646  2024-03-02  Sergiy Korniychuk           UKR1   \n1570332                   53646  2024-04-13  Sergiy Korniychuk           UKR1   \n1576955                   53646  2024-04-27  Sergiy Korniychuk           UKR1   \n1582857                   53646  2024-05-11  Sergiy Korniychuk           UKR1   \n\n         yellow_cards  red_cards  ...  minutes_played  Unnamed: 0  season  \\\n80486               0          0  ...              90       27299  2012.0   \n26474               0          0  ...              90       27299  2012.0   \n764412              0          0  ...              90       27299  2012.0   \n140681              0          0  ...              45       27299  2012.0   \n401744              0          0  ...              90       27299  2012.0   \n...               ...        ...  ...             ...         ...     ...   \n1448871             0          0  ...              90      240346  2023.0   \n1552740             0          0  ...              90      240346  2023.0   \n1570332             2          0  ...              67      240346  2023.0   \n1576955             0          0  ...              12      240346  2023.0   \n1582857             0          0  ...               1      240346  2023.0   \n\n         first_name   last_name               name        player_code  \\\n80486        Lionel       Messi       Lionel Messi       lionel-messi   \n26474        Lionel       Messi       Lionel Messi       lionel-messi   \n764412       Lionel       Messi       Lionel Messi       lionel-messi   \n140681       Lionel       Messi       Lionel Messi       lionel-messi   \n401744       Lionel       Messi       Lionel Messi       lionel-messi   \n...             ...         ...                ...                ...   \n1448871      Sergiy  Korniychuk  Sergiy Korniychuk  sergiy-korniychuk   \n1552740      Sergiy  Korniychuk  Sergiy Korniychuk  sergiy-korniychuk   \n1570332      Sergiy  Korniychuk  Sergiy Korniychuk  sergiy-korniychuk   \n1576955      Sergiy  Korniychuk  Sergiy Korniychuk  sergiy-korniychuk   \n1582857      Sergiy  Korniychuk  Sergiy Korniychuk  sergiy-korniychuk   \n\n        country_of_birth        date_of_birth         elo  \n80486          Argentina  1987-06-24 00:00:00  2038.13497  \n26474          Argentina  1987-06-24 00:00:00  2038.13497  \n764412         Argentina  1987-06-24 00:00:00  2038.13497  \n140681         Argentina  1987-06-24 00:00:00  2038.13497  \n401744         Argentina  1987-06-24 00:00:00  2038.13497  \n...                  ...                  ...         ...  \n1448871          Ukraine  2004-06-25 00:00:00  1105.01900  \n1552740          Ukraine  2004-06-25 00:00:00  1105.01900  \n1570332          Ukraine  2004-06-25 00:00:00  1105.01900  \n1576955          Ukraine  2004-06-25 00:00:00  1105.01900  \n1582857          Ukraine  2004-06-25 00:00:00  1105.01900  \n\n[1610489 rows x 22 columns]",
      "text/html": "<div>\n<style scoped>\n    .dataframe tbody tr th:only-of-type {\n        vertical-align: middle;\n    }\n\n    .dataframe tbody tr th {\n        vertical-align: top;\n    }\n\n    .dataframe thead th {\n        text-align: right;\n    }\n</style>\n<table border=\"1\" class=\"dataframe\">\n  <thead>\n    <tr style=\"text-align: right;\">\n      <th></th>\n      <th>appearance_id</th>\n      <th>game_id</th>\n      <th>player_id</th>\n      <th>player_club_id</th>\n      <th>player_current_club_id</th>\n      <th>date</th>\n      <th>player_name</th>\n      <th>competition_id</th>\n      <th>yellow_cards</th>\n      <th>red_cards</th>\n      <th>...</th>\n      <th>minutes_played</th>\n      <th>Unnamed: 0</th>\n      <th>season</th>\n      <th>first_name</th>\n      <th>last_name</th>\n      <th>name</th>\n      <th>player_code</th>\n      <th>country_of_birth</th>\n      <th>date_of_birth</th>\n      <th>elo</th>\n    </tr>\n  </thead>\n  <tbody>\n    <tr>\n      <th>80486</th>\n      <td>2243102_28003</td>\n      <td>2243102</td>\n      <td>28003</td>\n      <td>131</td>\n      <td>583</td>\n      <td>2013-01-27</td>\n      <td>Lionel Messi</td>\n      <td>ES1</td>\n      <td>0</td>\n      <td>0</td>\n      <td>...</td>\n      <td>90</td>\n      <td>27299</td>\n      <td>2012.0</td>\n      <td>Lionel</td>\n      <td>Messi</td>\n      <td>Lionel Messi</td>\n      <td>lionel-messi</td>\n      <td>Argentina</td>\n      <td>1987-06-24 00:00:00</td>\n      <td>2038.13497</td>\n    </tr>\n    <tr>\n      <th>26474</th>\n      <td>2242837_28003</td>\n      <td>2242837</td>\n      <td>28003</td>\n      <td>131</td>\n      <td>583</td>\n      <td>2012-09-29</td>\n      <td>Lionel Messi</td>\n      <td>ES1</td>\n      <td>0</td>\n      <td>0</td>\n      <td>...</td>\n      <td>90</td>\n      <td>27299</td>\n      <td>2012.0</td>\n      <td>Lionel</td>\n      <td>Messi</td>\n      <td>Lionel Messi</td>\n      <td>lionel-messi</td>\n      <td>Argentina</td>\n      <td>1987-06-24 00:00:00</td>\n      <td>2038.13497</td>\n    </tr>\n    <tr>\n      <th>764412</th>\n      <td>2899853_28003</td>\n      <td>2899853</td>\n      <td>28003</td>\n      <td>131</td>\n      <td>583</td>\n      <td>2018-04-07</td>\n      <td>Lionel Messi</td>\n      <td>ES1</td>\n      <td>0</td>\n      <td>0</td>\n      <td>...</td>\n      <td>90</td>\n      <td>27299</td>\n      <td>2012.0</td>\n      <td>Lionel</td>\n      <td>Messi</td>\n      <td>Lionel Messi</td>\n      <td>lionel-messi</td>\n      <td>Argentina</td>\n      <td>1987-06-24 00:00:00</td>\n      <td>2038.13497</td>\n    </tr>\n    <tr>\n      <th>140681</th>\n      <td>2348142_28003</td>\n      <td>2348142</td>\n      <td>28003</td>\n      <td>131</td>\n      <td>583</td>\n      <td>2013-08-21</td>\n      <td>Lionel Messi</td>\n      <td>SUC</td>\n      <td>0</td>\n      <td>0</td>\n      <td>...</td>\n      <td>45</td>\n      <td>27299</td>\n      <td>2012.0</td>\n      <td>Lionel</td>\n      <td>Messi</td>\n      <td>Lionel Messi</td>\n      <td>lionel-messi</td>\n      <td>Argentina</td>\n      <td>1987-06-24 00:00:00</td>\n      <td>2038.13497</td>\n    </tr>\n    <tr>\n      <th>401744</th>\n      <td>2594471_28003</td>\n      <td>2594471</td>\n      <td>28003</td>\n      <td>131</td>\n      <td>583</td>\n      <td>2015-08-23</td>\n      <td>Lionel Messi</td>\n      <td>ES1</td>\n      <td>0</td>\n      <td>0</td>\n      <td>...</td>\n      <td>90</td>\n      <td>27299</td>\n      <td>2012.0</td>\n      <td>Lionel</td>\n      <td>Messi</td>\n      <td>Lionel Messi</td>\n      <td>lionel-messi</td>\n      <td>Argentina</td>\n      <td>1987-06-24 00:00:00</td>\n      <td>2038.13497</td>\n    </tr>\n    <tr>\n      <th>...</th>\n      <td>...</td>\n      <td>...</td>\n      <td>...</td>\n      <td>...</td>\n      <td>...</td>\n      <td>...</td>\n      <td>...</td>\n      <td>...</td>\n      <td>...</td>\n      <td>...</td>\n      <td>...</td>\n      <td>...</td>\n      <td>...</td>\n      <td>...</td>\n      <td>...</td>\n      <td>...</td>\n      <td>...</td>\n      <td>...</td>\n      <td>...</td>\n      <td>...</td>\n      <td>...</td>\n    </tr>\n    <tr>\n      <th>1448871</th>\n      <td>4131286_1159925</td>\n      <td>4131286</td>\n      <td>1159925</td>\n      <td>61761</td>\n      <td>53646</td>\n      <td>2023-08-02</td>\n      <td>Sergiy Korniychuk</td>\n      <td>UKRP</td>\n      <td>0</td>\n      <td>0</td>\n      <td>...</td>\n      <td>90</td>\n      <td>240346</td>\n      <td>2023.0</td>\n      <td>Sergiy</td>\n      <td>Korniychuk</td>\n      <td>Sergiy Korniychuk</td>\n      <td>sergiy-korniychuk</td>\n      <td>Ukraine</td>\n      <td>2004-06-25 00:00:00</td>\n      <td>1105.01900</td>\n    </tr>\n    <tr>\n      <th>1552740</th>\n      <td>4120713_1159925</td>\n      <td>4120713</td>\n      <td>1159925</td>\n      <td>61825</td>\n      <td>53646</td>\n      <td>2024-03-02</td>\n      <td>Sergiy Korniychuk</td>\n      <td>UKR1</td>\n      <td>0</td>\n      <td>0</td>\n      <td>...</td>\n      <td>90</td>\n      <td>240346</td>\n      <td>2023.0</td>\n      <td>Sergiy</td>\n      <td>Korniychuk</td>\n      <td>Sergiy Korniychuk</td>\n      <td>sergiy-korniychuk</td>\n      <td>Ukraine</td>\n      <td>2004-06-25 00:00:00</td>\n      <td>1105.01900</td>\n    </tr>\n    <tr>\n      <th>1570332</th>\n      <td>4120754_1159925</td>\n      <td>4120754</td>\n      <td>1159925</td>\n      <td>61825</td>\n      <td>53646</td>\n      <td>2024-04-13</td>\n      <td>Sergiy Korniychuk</td>\n      <td>UKR1</td>\n      <td>2</td>\n      <td>0</td>\n      <td>...</td>\n      <td>67</td>\n      <td>240346</td>\n      <td>2023.0</td>\n      <td>Sergiy</td>\n      <td>Korniychuk</td>\n      <td>Sergiy Korniychuk</td>\n      <td>sergiy-korniychuk</td>\n      <td>Ukraine</td>\n      <td>2004-06-25 00:00:00</td>\n      <td>1105.01900</td>\n    </tr>\n    <tr>\n      <th>1576955</th>\n      <td>4120768_1159925</td>\n      <td>4120768</td>\n      <td>1159925</td>\n      <td>61825</td>\n      <td>53646</td>\n      <td>2024-04-27</td>\n      <td>Sergiy Korniychuk</td>\n      <td>UKR1</td>\n      <td>0</td>\n      <td>0</td>\n      <td>...</td>\n      <td>12</td>\n      <td>240346</td>\n      <td>2023.0</td>\n      <td>Sergiy</td>\n      <td>Korniychuk</td>\n      <td>Sergiy Korniychuk</td>\n      <td>sergiy-korniychuk</td>\n      <td>Ukraine</td>\n      <td>2004-06-25 00:00:00</td>\n      <td>1105.01900</td>\n    </tr>\n    <tr>\n      <th>1582857</th>\n      <td>4120787_1159925</td>\n      <td>4120787</td>\n      <td>1159925</td>\n      <td>61825</td>\n      <td>53646</td>\n      <td>2024-05-11</td>\n      <td>Sergiy Korniychuk</td>\n      <td>UKR1</td>\n      <td>0</td>\n      <td>0</td>\n      <td>...</td>\n      <td>1</td>\n      <td>240346</td>\n      <td>2023.0</td>\n      <td>Sergiy</td>\n      <td>Korniychuk</td>\n      <td>Sergiy Korniychuk</td>\n      <td>sergiy-korniychuk</td>\n      <td>Ukraine</td>\n      <td>2004-06-25 00:00:00</td>\n      <td>1105.01900</td>\n    </tr>\n  </tbody>\n</table>\n<p>1610489 rows × 22 columns</p>\n</div>"
     },
     "execution_count": 8,
     "metadata": {},
     "output_type": "execute_result"
    }
   ],
   "source": [
    "df.sort_values(by=['elo'], ascending=False)"
   ],
   "metadata": {
    "collapsed": false,
    "ExecuteTime": {
     "end_time": "2024-11-03T12:37:42.988266Z",
     "start_time": "2024-11-03T12:37:39.187638Z"
    }
   },
   "id": "2d67bd6b4770d3fd",
   "execution_count": 8
  }
 ],
 "metadata": {
  "kernelspec": {
   "display_name": "Python 3",
   "language": "python",
   "name": "python3"
  },
  "language_info": {
   "codemirror_mode": {
    "name": "ipython",
    "version": 2
   },
   "file_extension": ".py",
   "mimetype": "text/x-python",
   "name": "python",
   "nbconvert_exporter": "python",
   "pygments_lexer": "ipython2",
   "version": "2.7.6"
  }
 },
 "nbformat": 4,
 "nbformat_minor": 5
}
