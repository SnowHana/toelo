{
 "cells": [
  {
   "cell_type": "markdown",
   "id": "c5efc6ec",
   "metadata": {},
   "source": [
    "# SQL Q&A\n",
    "https://python.langchain.com/docs/tutorials/sql_qa/#agents"
   ]
  },
  {
   "cell_type": "code",
   "execution_count": 38,
   "id": "ae9ebe8b",
   "metadata": {},
   "outputs": [],
   "source": [
    "# Make sure to set your env varaiable\n",
    "# export LANGSMITH_API_KEY=[API KEY]\n",
    "\n",
    "from getpass import getpass\n",
    "import os\n",
    "\n",
    "if not os.environ.get(\"LANGSMITH_API_KEY\"):\n",
    "    os.environ[\"LANGSMITH_API_KEY\"] = getpass()\n",
    "    os.environ[\"LANGSMITH_API_KEY\"] = 'true'\n",
    "    \n"
   ]
  },
  {
   "cell_type": "code",
   "execution_count": 39,
   "id": "c47a98a8",
   "metadata": {},
   "outputs": [
    {
     "data": {
      "text/plain": [
       "\"[(33042, 2014, 'Migjen', 'Basha', 'Migjen Basha', 'migjen-basha', 'Switzerland', datetime.date(1987, 1, 5), 2593.2273077268505), (159029, 2013, 'Hüseyin', 'Kala', 'Hüseyin Kala', 'huseyin-kala', 'Turkey', datetime.date(1987, 5, 5), 2536.2046353257374), (167061, 2012, 'Leighton', 'McIntosh', 'Leighton McIntosh', 'leighton-mcintosh', 'Scotland', datetime.date(1993, 2, 6), 2255.7503253540335), (22598, 2014, 'Gianni', 'Munari', 'Gianni Munari', 'gianni-munari', 'Italy', datetime.date(1983, 6, 24), 2574.7604517201576), (118056, 2014, 'Mavroudis', 'Bougaidis', 'Mavroudis Bougaidis', 'mavroudis-bougaidis', 'Greece', datetime.date(1993, 6, 1), 2507.888919411905)]\""
      ]
     },
     "execution_count": 39,
     "metadata": {},
     "output_type": "execute_result"
    }
   ],
   "source": [
    "from langchain_community.utilities import SQLDatabase\n",
    "\n",
    "from toelo.player_elo.database_connection import get_connection_string, DATABASE_CONFIG\n",
    "\n",
    "\n",
    "db_uri = get_connection_string(DATABASE_CONFIG)\n",
    "db = SQLDatabase.from_uri(db_uri)\n",
    "db.run(\"SELECT * FROM players_elo LIMIT 5;\")"
   ]
  },
  {
   "cell_type": "code",
   "execution_count": 40,
   "id": "ad26279a",
   "metadata": {},
   "outputs": [],
   "source": [
    "from pathlib import Path\n",
    "from typing_extensions import TypedDict\n",
    "\n",
    "class State(TypedDict):\n",
    "    question: str\n",
    "    query: str\n",
    "    result: str\n",
    "    answer: str\n",
    "\n",
    "\n",
    "from langchain_ollama import ChatOllama\n",
    "\n",
    "# Chat model\n",
    "# llm_path = Path.home() / Path(\"models\") / \"mistral-7b-openorca.Q4_0.gguf\"\n",
    "llm = ChatOllama(model=\"mistral:7b\", n_threads=8)\n",
    "\n",
    "# https://python.langchain.com/docs/tutorials/sql_qa/#agents"
   ]
  },
  {
   "cell_type": "code",
   "execution_count": 41,
   "id": "db926e83",
   "metadata": {},
   "outputs": [
    {
     "name": "stdout",
     "output_type": "stream",
     "text": [
      "================================\u001b[1m System Message \u001b[0m================================\n",
      "\n",
      "\n",
      "Given an input question, create a syntactically correct \u001b[33;1m\u001b[1;3m{dialect}\u001b[0m query to\n",
      "run to help find the answer. Unless the user specifies in his question a\n",
      "specific number of examples they wish to obtain, always limit your query to\n",
      "at most \u001b[33;1m\u001b[1;3m{top_k}\u001b[0m results. You can order the results by a relevant column to\n",
      "return the most interesting examples in the database.\n",
      "\n",
      "Never query for all the columns from a specific table, only ask for a the\n",
      "few relevant columns given the question.\n",
      "\n",
      "Pay attention to use only the column names that you can see in the schema\n",
      "description. Be careful to not query for columns that do not exist. Also,\n",
      "pay attention to which column is in which table.\n",
      "\n",
      "Only use the following tables:\n",
      "\u001b[33;1m\u001b[1;3m{table_info}\u001b[0m\n",
      "\n",
      "================================\u001b[1m Human Message \u001b[0m=================================\n",
      "\n",
      "Question: \u001b[33;1m\u001b[1;3m{input}\u001b[0m\n"
     ]
    }
   ],
   "source": [
    "# Provide some instruction\n",
    "from langchain_core.prompts import ChatPromptTemplate\n",
    "\n",
    "system_message = system_message = \"\"\"\n",
    "Given an input question, create a syntactically correct {dialect} query to\n",
    "run to help find the answer. Unless the user specifies in his question a\n",
    "specific number of examples they wish to obtain, always limit your query to\n",
    "at most {top_k} results. You can order the results by a relevant column to\n",
    "return the most interesting examples in the database.\n",
    "\n",
    "Never query for all the columns from a specific table, only ask for a the\n",
    "few relevant columns given the question.\n",
    "\n",
    "Pay attention to use only the column names that you can see in the schema\n",
    "description. Be careful to not query for columns that do not exist. Also,\n",
    "pay attention to which column is in which table.\n",
    "\n",
    "Only use the following tables:\n",
    "{table_info}\n",
    "\"\"\"\n",
    "\n",
    "user_prompt = \"Question: {input}\"\n",
    "\n",
    "query_prompt_template = ChatPromptTemplate(\n",
    "    [(\"system\", system_message), (\"user\", user_prompt)]\n",
    "    )\n",
    "\n",
    "for message in query_prompt_template.messages:\n",
    "    message.pretty_print()"
   ]
  },
  {
   "cell_type": "code",
   "execution_count": 42,
   "id": "efad4e6e",
   "metadata": {},
   "outputs": [],
   "source": [
    "# Populate parameters\n",
    "from typing_extensions import Annotated\n",
    "\n",
    "class QueryOutput(TypedDict):\n",
    "    \"\"\"Generated SQL query\n",
    "\n",
    "    Args:\n",
    "        TypedDict (_type_): _description_\n",
    "    \"\"\"\n",
    "    query: Annotated[str, ...,  \"Syntatically valid SQL Query\"]\n",
    "    \n",
    "def write_query(state: State):\n",
    "    \"\"\"Generate SQL query to fetch info\n",
    "\n",
    "    Args:\n",
    "        state (State): _description_\n",
    "    \"\"\"\n",
    "    prompt = query_prompt_template.invoke(\n",
    "        {\n",
    "            \"dialect\": db.dialect,\n",
    "            \"top_k\": 10,\n",
    "            \"table_info\": db.get_table_info(),\n",
    "            \"input\": state[\"question\"]\n",
    "        }\n",
    "    )\n",
    "    # print(prompt)\n",
    "    structured_llm = llm.with_structured_output(QueryOutput)\n",
    "    result = structured_llm.invoke(prompt)\n",
    "    return {\"query\": result[\"query\"]}\n",
    "\n"
   ]
  },
  {
   "cell_type": "code",
   "execution_count": 43,
   "id": "c59491c8",
   "metadata": {},
   "outputs": [],
   "source": [
    "# print(db.dialect)\n",
    "# print(db.get_table_info())\n",
    "# print(state[\"question\"])"
   ]
  },
  {
   "cell_type": "code",
   "execution_count": 45,
   "id": "115625bb",
   "metadata": {},
   "outputs": [
    {
     "data": {
      "text/plain": [
       "{'query': 'SELECT COUNT(*) FROM Players;'}"
      ]
     },
     "execution_count": 45,
     "metadata": {},
     "output_type": "execute_result"
    }
   ],
   "source": [
    "write_query({\"question\": \"What is the highest elo from players_elo table?\"})\n",
    "write_query({\"question\" : \"How many players exists in our database, you can use Players table\"})"
   ]
  }
 ],
 "metadata": {
  "kernelspec": {
   "display_name": ".venv",
   "language": "python",
   "name": "python3"
  },
  "language_info": {
   "codemirror_mode": {
    "name": "ipython",
    "version": 3
   },
   "file_extension": ".py",
   "mimetype": "text/x-python",
   "name": "python",
   "nbconvert_exporter": "python",
   "pygments_lexer": "ipython3",
   "version": "3.12.3"
  }
 },
 "nbformat": 4,
 "nbformat_minor": 5
}
