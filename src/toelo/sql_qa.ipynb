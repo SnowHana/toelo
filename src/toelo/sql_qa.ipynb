{
 "cells": [
  {
   "cell_type": "markdown",
   "id": "c5efc6ec",
   "metadata": {},
   "source": [
    "# SQL Q&A\n",
    "https://python.langchain.com/docs/tutorials/sql_qa/#agents"
   ]
  },
  {
   "cell_type": "code",
   "execution_count": 1,
   "id": "ae9ebe8b",
   "metadata": {},
   "outputs": [],
   "source": [
    "# Make sure to set your env varaiable\n",
    "# export LANGSMITH_API_KEY=[API KEY]\n",
    "\n",
    "from getpass import getpass\n",
    "import os\n",
    "\n",
    "if not os.environ.get(\"LANGSMITH_API_KEY\"):\n",
    "    os.environ[\"LANGSMITH_API_KEY\"] = getpass()\n",
    "    os.environ[\"LANGSMITH_API_KEY\"] = 'true'\n",
    "    \n"
   ]
  },
  {
   "cell_type": "code",
   "execution_count": 2,
   "id": "c47a98a8",
   "metadata": {},
   "outputs": [
    {
     "data": {
      "text/plain": [
       "\"[(33042, 2014, 'Migjen', 'Basha', 'Migjen Basha', 'migjen-basha', 'Switzerland', datetime.date(1987, 1, 5), 2593.2273077268505), (159029, 2013, 'Hüseyin', 'Kala', 'Hüseyin Kala', 'huseyin-kala', 'Turkey', datetime.date(1987, 5, 5), 2536.2046353257374), (167061, 2012, 'Leighton', 'McIntosh', 'Leighton McIntosh', 'leighton-mcintosh', 'Scotland', datetime.date(1993, 2, 6), 2255.7503253540335), (22598, 2014, 'Gianni', 'Munari', 'Gianni Munari', 'gianni-munari', 'Italy', datetime.date(1983, 6, 24), 2574.7604517201576), (118056, 2014, 'Mavroudis', 'Bougaidis', 'Mavroudis Bougaidis', 'mavroudis-bougaidis', 'Greece', datetime.date(1993, 6, 1), 2507.888919411905)]\""
      ]
     },
     "execution_count": 2,
     "metadata": {},
     "output_type": "execute_result"
    }
   ],
   "source": [
    "from langchain_community.utilities import SQLDatabase\n",
    "\n",
    "from toelo.player_elo.database_connection import get_connection_string, DATABASE_CONFIG\n",
    "\n",
    "\n",
    "db_uri = get_connection_string(DATABASE_CONFIG)\n",
    "db = SQLDatabase.from_uri(db_uri)\n",
    "db.run(\"SELECT * FROM players_elo LIMIT 5;\")"
   ]
  },
  {
   "cell_type": "code",
   "execution_count": null,
   "id": "ad26279a",
   "metadata": {},
   "outputs": [],
   "source": [
    "from pathlib import Path\n",
    "from typing_extensions import TypedDict\n",
    "\n",
    "class State(TypedDict):\n",
    "    question: str\n",
    "    query: str\n",
    "    result: str\n",
    "    answer: str\n",
    "\n",
    "\n",
    "from langchain_community.llms import GPT4All\n",
    "\n",
    "# Chat model\n",
    "llm_path = Path.home() / Path(\"models\") / \"mistral-7b-openorca.Q4_0.gguf\"\n",
    "llm = GPT4All(model=str(llm_path), n_threads=8)\n",
    "\n",
    "# https://python.langchain.com/docs/tutorials/sql_qa/#agents"
   ]
  }
 ],
 "metadata": {
  "kernelspec": {
   "display_name": ".venv",
   "language": "python",
   "name": "python3"
  },
  "language_info": {
   "codemirror_mode": {
    "name": "ipython",
    "version": 3
   },
   "file_extension": ".py",
   "mimetype": "text/x-python",
   "name": "python",
   "nbconvert_exporter": "python",
   "pygments_lexer": "ipython3",
   "version": "3.12.3"
  }
 },
 "nbformat": 4,
 "nbformat_minor": 5
}
