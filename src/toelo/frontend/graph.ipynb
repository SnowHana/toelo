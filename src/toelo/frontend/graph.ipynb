{
 "cells": [
  {
   "cell_type": "code",
   "execution_count": 1,
   "metadata": {},
   "outputs": [
    {
     "data": {
      "application/vnd.microsoft.datawrangler.viewer.v0+json": {
       "columns": [
        {
         "name": "index",
         "rawType": "int64",
         "type": "integer"
        },
        {
         "name": "player_id",
         "rawType": "int64",
         "type": "integer"
        },
        {
         "name": "season",
         "rawType": "int64",
         "type": "integer"
        },
        {
         "name": "first_name",
         "rawType": "object",
         "type": "unknown"
        },
        {
         "name": "last_name",
         "rawType": "object",
         "type": "string"
        },
        {
         "name": "name",
         "rawType": "object",
         "type": "string"
        },
        {
         "name": "player_code",
         "rawType": "object",
         "type": "string"
        },
        {
         "name": "country_of_birth",
         "rawType": "object",
         "type": "string"
        },
        {
         "name": "date_of_birth",
         "rawType": "object",
         "type": "unknown"
        },
        {
         "name": "elo",
         "rawType": "float64",
         "type": "float"
        }
       ],
       "conversionMethod": "pd.DataFrame",
       "ref": "595b8e84-adb4-40e6-a021-fe1e5e7f91ab",
       "rows": [
        [
         "0",
         "8198",
         "2015",
         null,
         "Cristiano Ronaldo",
         "Cristiano Ronaldo",
         "cristiano-ronaldo",
         "Portugal",
         "1985-02-05",
         "3445.1389912922305"
        ],
        [
         "1",
         "28003",
         "2015",
         "Lionel",
         "Messi",
         "Lionel Messi",
         "lionel-messi",
         "Argentina",
         "1987-06-24",
         "3445.135082463437"
        ],
        [
         "2",
         "342229",
         "2019",
         "Kylian",
         "Mbappé",
         "Kylian Mbappé",
         "kylian-mbappe",
         "France",
         "1998-12-20",
         "3437.6481350006916"
        ],
        [
         "3",
         "28003",
         "2016",
         "Lionel",
         "Messi",
         "Lionel Messi",
         "lionel-messi",
         "Argentina",
         "1987-06-24",
         "3437.563208529639"
        ],
        [
         "4",
         "342229",
         "2020",
         "Kylian",
         "Mbappé",
         "Kylian Mbappé",
         "kylian-mbappe",
         "France",
         "1998-12-20",
         "3431.065747812123"
        ],
        [
         "5",
         "8198",
         "2016",
         null,
         "Cristiano Ronaldo",
         "Cristiano Ronaldo",
         "cristiano-ronaldo",
         "Portugal",
         "1985-02-05",
         "3422.1360709875416"
        ],
        [
         "6",
         "68290",
         "2019",
         null,
         "Neymar",
         "Neymar",
         "neymar",
         "Brazil",
         "1992-02-05",
         "3421.804897272244"
        ],
        [
         "7",
         "28003",
         "2017",
         "Lionel",
         "Messi",
         "Lionel Messi",
         "lionel-messi",
         "Argentina",
         "1987-06-24",
         "3418.1935609843717"
        ],
        [
         "8",
         "68290",
         "2016",
         null,
         "Neymar",
         "Neymar",
         "neymar",
         "Brazil",
         "1992-02-05",
         "3407.8620815299596"
        ],
        [
         "9",
         "8198",
         "2014",
         null,
         "Cristiano Ronaldo",
         "Cristiano Ronaldo",
         "cristiano-ronaldo",
         "Portugal",
         "1985-02-05",
         "3406.5622847080076"
        ],
        [
         "10",
         "342229",
         "2022",
         "Kylian",
         "Mbappé",
         "Kylian Mbappé",
         "kylian-mbappe",
         "France",
         "1998-12-20",
         "3404.274354258665"
        ],
        [
         "11",
         "28003",
         "2019",
         "Lionel",
         "Messi",
         "Lionel Messi",
         "lionel-messi",
         "Argentina",
         "1987-06-24",
         "3395.1593512254667"
        ],
        [
         "12",
         "418560",
         "2022",
         "Erling",
         "Haaland",
         "Erling Haaland",
         "erling-haaland",
         "England",
         "2000-07-21",
         "3394.027862371979"
        ],
        [
         "13",
         "148455",
         "2019",
         null,
         "Mohamed Salah",
         "Mohamed Salah",
         "mohamed-salah",
         "Egypt",
         "1992-06-15",
         "3391.9722498907136"
        ],
        [
         "14",
         "28003",
         "2014",
         "Lionel",
         "Messi",
         "Lionel Messi",
         "lionel-messi",
         "Argentina",
         "1987-06-24",
         "3391.6344581071226"
        ],
        [
         "15",
         "50202",
         "2019",
         "Eden",
         "Hazard",
         "Eden Hazard",
         "eden-hazard",
         "Belgium",
         "1991-01-07",
         "3391.0301004107973"
        ],
        [
         "16",
         "44352",
         "2016",
         "Luis",
         "Suárez",
         "Luis Suárez",
         "luis-suarez",
         "Uruguay",
         "1987-01-24",
         "3390.761664562657"
        ],
        [
         "17",
         "28003",
         "2013",
         "Lionel",
         "Messi",
         "Lionel Messi",
         "lionel-messi",
         "Argentina",
         "1987-06-24",
         "3389.7651123414157"
        ],
        [
         "18",
         "132098",
         "2019",
         "Harry",
         "Kane",
         "Harry Kane",
         "harry-kane",
         "England",
         "1993-07-28",
         "3389.2867491306465"
        ],
        [
         "19",
         "342229",
         "2021",
         "Kylian",
         "Mbappé",
         "Kylian Mbappé",
         "kylian-mbappe",
         "France",
         "1998-12-20",
         "3386.307589836996"
        ]
       ],
       "shape": {
        "columns": 9,
        "rows": 20
       }
      },
      "text/html": [
       "<div>\n",
       "<style scoped>\n",
       "    .dataframe tbody tr th:only-of-type {\n",
       "        vertical-align: middle;\n",
       "    }\n",
       "\n",
       "    .dataframe tbody tr th {\n",
       "        vertical-align: top;\n",
       "    }\n",
       "\n",
       "    .dataframe thead th {\n",
       "        text-align: right;\n",
       "    }\n",
       "</style>\n",
       "<table border=\"1\" class=\"dataframe\">\n",
       "  <thead>\n",
       "    <tr style=\"text-align: right;\">\n",
       "      <th></th>\n",
       "      <th>player_id</th>\n",
       "      <th>season</th>\n",
       "      <th>first_name</th>\n",
       "      <th>last_name</th>\n",
       "      <th>name</th>\n",
       "      <th>player_code</th>\n",
       "      <th>country_of_birth</th>\n",
       "      <th>date_of_birth</th>\n",
       "      <th>elo</th>\n",
       "    </tr>\n",
       "  </thead>\n",
       "  <tbody>\n",
       "    <tr>\n",
       "      <th>0</th>\n",
       "      <td>8198</td>\n",
       "      <td>2015</td>\n",
       "      <td>None</td>\n",
       "      <td>Cristiano Ronaldo</td>\n",
       "      <td>Cristiano Ronaldo</td>\n",
       "      <td>cristiano-ronaldo</td>\n",
       "      <td>Portugal</td>\n",
       "      <td>1985-02-05</td>\n",
       "      <td>3445.138991</td>\n",
       "    </tr>\n",
       "    <tr>\n",
       "      <th>1</th>\n",
       "      <td>28003</td>\n",
       "      <td>2015</td>\n",
       "      <td>Lionel</td>\n",
       "      <td>Messi</td>\n",
       "      <td>Lionel Messi</td>\n",
       "      <td>lionel-messi</td>\n",
       "      <td>Argentina</td>\n",
       "      <td>1987-06-24</td>\n",
       "      <td>3445.135082</td>\n",
       "    </tr>\n",
       "    <tr>\n",
       "      <th>2</th>\n",
       "      <td>342229</td>\n",
       "      <td>2019</td>\n",
       "      <td>Kylian</td>\n",
       "      <td>Mbappé</td>\n",
       "      <td>Kylian Mbappé</td>\n",
       "      <td>kylian-mbappe</td>\n",
       "      <td>France</td>\n",
       "      <td>1998-12-20</td>\n",
       "      <td>3437.648135</td>\n",
       "    </tr>\n",
       "    <tr>\n",
       "      <th>3</th>\n",
       "      <td>28003</td>\n",
       "      <td>2016</td>\n",
       "      <td>Lionel</td>\n",
       "      <td>Messi</td>\n",
       "      <td>Lionel Messi</td>\n",
       "      <td>lionel-messi</td>\n",
       "      <td>Argentina</td>\n",
       "      <td>1987-06-24</td>\n",
       "      <td>3437.563209</td>\n",
       "    </tr>\n",
       "    <tr>\n",
       "      <th>4</th>\n",
       "      <td>342229</td>\n",
       "      <td>2020</td>\n",
       "      <td>Kylian</td>\n",
       "      <td>Mbappé</td>\n",
       "      <td>Kylian Mbappé</td>\n",
       "      <td>kylian-mbappe</td>\n",
       "      <td>France</td>\n",
       "      <td>1998-12-20</td>\n",
       "      <td>3431.065748</td>\n",
       "    </tr>\n",
       "    <tr>\n",
       "      <th>5</th>\n",
       "      <td>8198</td>\n",
       "      <td>2016</td>\n",
       "      <td>None</td>\n",
       "      <td>Cristiano Ronaldo</td>\n",
       "      <td>Cristiano Ronaldo</td>\n",
       "      <td>cristiano-ronaldo</td>\n",
       "      <td>Portugal</td>\n",
       "      <td>1985-02-05</td>\n",
       "      <td>3422.136071</td>\n",
       "    </tr>\n",
       "    <tr>\n",
       "      <th>6</th>\n",
       "      <td>68290</td>\n",
       "      <td>2019</td>\n",
       "      <td>None</td>\n",
       "      <td>Neymar</td>\n",
       "      <td>Neymar</td>\n",
       "      <td>neymar</td>\n",
       "      <td>Brazil</td>\n",
       "      <td>1992-02-05</td>\n",
       "      <td>3421.804897</td>\n",
       "    </tr>\n",
       "    <tr>\n",
       "      <th>7</th>\n",
       "      <td>28003</td>\n",
       "      <td>2017</td>\n",
       "      <td>Lionel</td>\n",
       "      <td>Messi</td>\n",
       "      <td>Lionel Messi</td>\n",
       "      <td>lionel-messi</td>\n",
       "      <td>Argentina</td>\n",
       "      <td>1987-06-24</td>\n",
       "      <td>3418.193561</td>\n",
       "    </tr>\n",
       "    <tr>\n",
       "      <th>8</th>\n",
       "      <td>68290</td>\n",
       "      <td>2016</td>\n",
       "      <td>None</td>\n",
       "      <td>Neymar</td>\n",
       "      <td>Neymar</td>\n",
       "      <td>neymar</td>\n",
       "      <td>Brazil</td>\n",
       "      <td>1992-02-05</td>\n",
       "      <td>3407.862082</td>\n",
       "    </tr>\n",
       "    <tr>\n",
       "      <th>9</th>\n",
       "      <td>8198</td>\n",
       "      <td>2014</td>\n",
       "      <td>None</td>\n",
       "      <td>Cristiano Ronaldo</td>\n",
       "      <td>Cristiano Ronaldo</td>\n",
       "      <td>cristiano-ronaldo</td>\n",
       "      <td>Portugal</td>\n",
       "      <td>1985-02-05</td>\n",
       "      <td>3406.562285</td>\n",
       "    </tr>\n",
       "    <tr>\n",
       "      <th>10</th>\n",
       "      <td>342229</td>\n",
       "      <td>2022</td>\n",
       "      <td>Kylian</td>\n",
       "      <td>Mbappé</td>\n",
       "      <td>Kylian Mbappé</td>\n",
       "      <td>kylian-mbappe</td>\n",
       "      <td>France</td>\n",
       "      <td>1998-12-20</td>\n",
       "      <td>3404.274354</td>\n",
       "    </tr>\n",
       "    <tr>\n",
       "      <th>11</th>\n",
       "      <td>28003</td>\n",
       "      <td>2019</td>\n",
       "      <td>Lionel</td>\n",
       "      <td>Messi</td>\n",
       "      <td>Lionel Messi</td>\n",
       "      <td>lionel-messi</td>\n",
       "      <td>Argentina</td>\n",
       "      <td>1987-06-24</td>\n",
       "      <td>3395.159351</td>\n",
       "    </tr>\n",
       "    <tr>\n",
       "      <th>12</th>\n",
       "      <td>418560</td>\n",
       "      <td>2022</td>\n",
       "      <td>Erling</td>\n",
       "      <td>Haaland</td>\n",
       "      <td>Erling Haaland</td>\n",
       "      <td>erling-haaland</td>\n",
       "      <td>England</td>\n",
       "      <td>2000-07-21</td>\n",
       "      <td>3394.027862</td>\n",
       "    </tr>\n",
       "    <tr>\n",
       "      <th>13</th>\n",
       "      <td>148455</td>\n",
       "      <td>2019</td>\n",
       "      <td>None</td>\n",
       "      <td>Mohamed Salah</td>\n",
       "      <td>Mohamed Salah</td>\n",
       "      <td>mohamed-salah</td>\n",
       "      <td>Egypt</td>\n",
       "      <td>1992-06-15</td>\n",
       "      <td>3391.972250</td>\n",
       "    </tr>\n",
       "    <tr>\n",
       "      <th>14</th>\n",
       "      <td>28003</td>\n",
       "      <td>2014</td>\n",
       "      <td>Lionel</td>\n",
       "      <td>Messi</td>\n",
       "      <td>Lionel Messi</td>\n",
       "      <td>lionel-messi</td>\n",
       "      <td>Argentina</td>\n",
       "      <td>1987-06-24</td>\n",
       "      <td>3391.634458</td>\n",
       "    </tr>\n",
       "    <tr>\n",
       "      <th>15</th>\n",
       "      <td>50202</td>\n",
       "      <td>2019</td>\n",
       "      <td>Eden</td>\n",
       "      <td>Hazard</td>\n",
       "      <td>Eden Hazard</td>\n",
       "      <td>eden-hazard</td>\n",
       "      <td>Belgium</td>\n",
       "      <td>1991-01-07</td>\n",
       "      <td>3391.030100</td>\n",
       "    </tr>\n",
       "    <tr>\n",
       "      <th>16</th>\n",
       "      <td>44352</td>\n",
       "      <td>2016</td>\n",
       "      <td>Luis</td>\n",
       "      <td>Suárez</td>\n",
       "      <td>Luis Suárez</td>\n",
       "      <td>luis-suarez</td>\n",
       "      <td>Uruguay</td>\n",
       "      <td>1987-01-24</td>\n",
       "      <td>3390.761665</td>\n",
       "    </tr>\n",
       "    <tr>\n",
       "      <th>17</th>\n",
       "      <td>28003</td>\n",
       "      <td>2013</td>\n",
       "      <td>Lionel</td>\n",
       "      <td>Messi</td>\n",
       "      <td>Lionel Messi</td>\n",
       "      <td>lionel-messi</td>\n",
       "      <td>Argentina</td>\n",
       "      <td>1987-06-24</td>\n",
       "      <td>3389.765112</td>\n",
       "    </tr>\n",
       "    <tr>\n",
       "      <th>18</th>\n",
       "      <td>132098</td>\n",
       "      <td>2019</td>\n",
       "      <td>Harry</td>\n",
       "      <td>Kane</td>\n",
       "      <td>Harry Kane</td>\n",
       "      <td>harry-kane</td>\n",
       "      <td>England</td>\n",
       "      <td>1993-07-28</td>\n",
       "      <td>3389.286749</td>\n",
       "    </tr>\n",
       "    <tr>\n",
       "      <th>19</th>\n",
       "      <td>342229</td>\n",
       "      <td>2021</td>\n",
       "      <td>Kylian</td>\n",
       "      <td>Mbappé</td>\n",
       "      <td>Kylian Mbappé</td>\n",
       "      <td>kylian-mbappe</td>\n",
       "      <td>France</td>\n",
       "      <td>1998-12-20</td>\n",
       "      <td>3386.307590</td>\n",
       "    </tr>\n",
       "  </tbody>\n",
       "</table>\n",
       "</div>"
      ],
      "text/plain": [
       "    player_id  season first_name          last_name               name  \\\n",
       "0        8198    2015       None  Cristiano Ronaldo  Cristiano Ronaldo   \n",
       "1       28003    2015     Lionel              Messi       Lionel Messi   \n",
       "2      342229    2019     Kylian             Mbappé      Kylian Mbappé   \n",
       "3       28003    2016     Lionel              Messi       Lionel Messi   \n",
       "4      342229    2020     Kylian             Mbappé      Kylian Mbappé   \n",
       "5        8198    2016       None  Cristiano Ronaldo  Cristiano Ronaldo   \n",
       "6       68290    2019       None             Neymar             Neymar   \n",
       "7       28003    2017     Lionel              Messi       Lionel Messi   \n",
       "8       68290    2016       None             Neymar             Neymar   \n",
       "9        8198    2014       None  Cristiano Ronaldo  Cristiano Ronaldo   \n",
       "10     342229    2022     Kylian             Mbappé      Kylian Mbappé   \n",
       "11      28003    2019     Lionel              Messi       Lionel Messi   \n",
       "12     418560    2022     Erling            Haaland     Erling Haaland   \n",
       "13     148455    2019       None      Mohamed Salah      Mohamed Salah   \n",
       "14      28003    2014     Lionel              Messi       Lionel Messi   \n",
       "15      50202    2019       Eden             Hazard        Eden Hazard   \n",
       "16      44352    2016       Luis             Suárez        Luis Suárez   \n",
       "17      28003    2013     Lionel              Messi       Lionel Messi   \n",
       "18     132098    2019      Harry               Kane         Harry Kane   \n",
       "19     342229    2021     Kylian             Mbappé      Kylian Mbappé   \n",
       "\n",
       "          player_code country_of_birth date_of_birth          elo  \n",
       "0   cristiano-ronaldo         Portugal    1985-02-05  3445.138991  \n",
       "1        lionel-messi        Argentina    1987-06-24  3445.135082  \n",
       "2       kylian-mbappe           France    1998-12-20  3437.648135  \n",
       "3        lionel-messi        Argentina    1987-06-24  3437.563209  \n",
       "4       kylian-mbappe           France    1998-12-20  3431.065748  \n",
       "5   cristiano-ronaldo         Portugal    1985-02-05  3422.136071  \n",
       "6              neymar           Brazil    1992-02-05  3421.804897  \n",
       "7        lionel-messi        Argentina    1987-06-24  3418.193561  \n",
       "8              neymar           Brazil    1992-02-05  3407.862082  \n",
       "9   cristiano-ronaldo         Portugal    1985-02-05  3406.562285  \n",
       "10      kylian-mbappe           France    1998-12-20  3404.274354  \n",
       "11       lionel-messi        Argentina    1987-06-24  3395.159351  \n",
       "12     erling-haaland          England    2000-07-21  3394.027862  \n",
       "13      mohamed-salah            Egypt    1992-06-15  3391.972250  \n",
       "14       lionel-messi        Argentina    1987-06-24  3391.634458  \n",
       "15        eden-hazard          Belgium    1991-01-07  3391.030100  \n",
       "16        luis-suarez          Uruguay    1987-01-24  3390.761665  \n",
       "17       lionel-messi        Argentina    1987-06-24  3389.765112  \n",
       "18         harry-kane          England    1993-07-28  3389.286749  \n",
       "19      kylian-mbappe           France    1998-12-20  3386.307590  "
      ]
     },
     "execution_count": 1,
     "metadata": {},
     "output_type": "execute_result"
    }
   ],
   "source": [
    "from toelo.player_elo.display_data import get_player_data\n",
    "import plotly.express as px\n",
    "\n",
    "# def display_player_data():\n",
    "query = \"SELECT * FROM players_elo WHERE elo IS NOT NULL ORDER BY elo DESC LIMIT 200;\"\n",
    "df = get_player_data(query)\n",
    "df =df.head(20)\n",
    "sort_by_elo = df.sort_values('elo', ascending=True)[::-1]\n",
    "\n",
    "sort_by_elo\n"
   ]
  },
  {
   "cell_type": "code",
   "execution_count": 2,
   "metadata": {},
   "outputs": [
    {
     "data": {
      "application/vnd.microsoft.datawrangler.viewer.v0+json": {
       "columns": [
        {
         "name": "index",
         "rawType": "int64",
         "type": "integer"
        },
        {
         "name": "player_id",
         "rawType": "int64",
         "type": "integer"
        },
        {
         "name": "season",
         "rawType": "int64",
         "type": "integer"
        },
        {
         "name": "first_name",
         "rawType": "object",
         "type": "unknown"
        },
        {
         "name": "last_name",
         "rawType": "object",
         "type": "string"
        },
        {
         "name": "name",
         "rawType": "object",
         "type": "string"
        },
        {
         "name": "player_code",
         "rawType": "object",
         "type": "string"
        },
        {
         "name": "country_of_birth",
         "rawType": "object",
         "type": "string"
        },
        {
         "name": "date_of_birth",
         "rawType": "object",
         "type": "unknown"
        },
        {
         "name": "elo",
         "rawType": "float64",
         "type": "float"
        },
        {
         "name": "name_season",
         "rawType": "object",
         "type": "string"
        }
       ],
       "conversionMethod": "pd.DataFrame",
       "ref": "eb766ccd-3946-4b15-adc8-85bd573177de",
       "rows": [
        [
         "0",
         "8198",
         "2015",
         null,
         "Cristiano Ronaldo",
         "Cristiano Ronaldo",
         "cristiano-ronaldo",
         "Portugal",
         "1985-02-05",
         "3445.1389912922305",
         "Cristiano Ronaldo - 2015"
        ],
        [
         "1",
         "28003",
         "2015",
         "Lionel",
         "Messi",
         "Lionel Messi",
         "lionel-messi",
         "Argentina",
         "1987-06-24",
         "3445.135082463437",
         "Lionel Messi - 2015"
        ],
        [
         "2",
         "342229",
         "2019",
         "Kylian",
         "Mbappé",
         "Kylian Mbappé",
         "kylian-mbappe",
         "France",
         "1998-12-20",
         "3437.6481350006916",
         "Kylian Mbappé - 2019"
        ],
        [
         "3",
         "28003",
         "2016",
         "Lionel",
         "Messi",
         "Lionel Messi",
         "lionel-messi",
         "Argentina",
         "1987-06-24",
         "3437.563208529639",
         "Lionel Messi - 2016"
        ],
        [
         "4",
         "342229",
         "2020",
         "Kylian",
         "Mbappé",
         "Kylian Mbappé",
         "kylian-mbappe",
         "France",
         "1998-12-20",
         "3431.065747812123",
         "Kylian Mbappé - 2020"
        ],
        [
         "5",
         "8198",
         "2016",
         null,
         "Cristiano Ronaldo",
         "Cristiano Ronaldo",
         "cristiano-ronaldo",
         "Portugal",
         "1985-02-05",
         "3422.1360709875416",
         "Cristiano Ronaldo - 2016"
        ],
        [
         "6",
         "68290",
         "2019",
         null,
         "Neymar",
         "Neymar",
         "neymar",
         "Brazil",
         "1992-02-05",
         "3421.804897272244",
         "Neymar - 2019"
        ],
        [
         "7",
         "28003",
         "2017",
         "Lionel",
         "Messi",
         "Lionel Messi",
         "lionel-messi",
         "Argentina",
         "1987-06-24",
         "3418.1935609843717",
         "Lionel Messi - 2017"
        ],
        [
         "8",
         "68290",
         "2016",
         null,
         "Neymar",
         "Neymar",
         "neymar",
         "Brazil",
         "1992-02-05",
         "3407.8620815299596",
         "Neymar - 2016"
        ],
        [
         "9",
         "8198",
         "2014",
         null,
         "Cristiano Ronaldo",
         "Cristiano Ronaldo",
         "cristiano-ronaldo",
         "Portugal",
         "1985-02-05",
         "3406.5622847080076",
         "Cristiano Ronaldo - 2014"
        ],
        [
         "10",
         "342229",
         "2022",
         "Kylian",
         "Mbappé",
         "Kylian Mbappé",
         "kylian-mbappe",
         "France",
         "1998-12-20",
         "3404.274354258665",
         "Kylian Mbappé - 2022"
        ],
        [
         "11",
         "28003",
         "2019",
         "Lionel",
         "Messi",
         "Lionel Messi",
         "lionel-messi",
         "Argentina",
         "1987-06-24",
         "3395.1593512254667",
         "Lionel Messi - 2019"
        ],
        [
         "12",
         "418560",
         "2022",
         "Erling",
         "Haaland",
         "Erling Haaland",
         "erling-haaland",
         "England",
         "2000-07-21",
         "3394.027862371979",
         "Erling Haaland - 2022"
        ],
        [
         "13",
         "148455",
         "2019",
         null,
         "Mohamed Salah",
         "Mohamed Salah",
         "mohamed-salah",
         "Egypt",
         "1992-06-15",
         "3391.9722498907136",
         "Mohamed Salah - 2019"
        ],
        [
         "14",
         "28003",
         "2014",
         "Lionel",
         "Messi",
         "Lionel Messi",
         "lionel-messi",
         "Argentina",
         "1987-06-24",
         "3391.6344581071226",
         "Lionel Messi - 2014"
        ],
        [
         "15",
         "50202",
         "2019",
         "Eden",
         "Hazard",
         "Eden Hazard",
         "eden-hazard",
         "Belgium",
         "1991-01-07",
         "3391.0301004107973",
         "Eden Hazard - 2019"
        ],
        [
         "16",
         "44352",
         "2016",
         "Luis",
         "Suárez",
         "Luis Suárez",
         "luis-suarez",
         "Uruguay",
         "1987-01-24",
         "3390.761664562657",
         "Luis Suárez - 2016"
        ],
        [
         "17",
         "28003",
         "2013",
         "Lionel",
         "Messi",
         "Lionel Messi",
         "lionel-messi",
         "Argentina",
         "1987-06-24",
         "3389.7651123414157",
         "Lionel Messi - 2013"
        ],
        [
         "18",
         "132098",
         "2019",
         "Harry",
         "Kane",
         "Harry Kane",
         "harry-kane",
         "England",
         "1993-07-28",
         "3389.2867491306465",
         "Harry Kane - 2019"
        ],
        [
         "19",
         "342229",
         "2021",
         "Kylian",
         "Mbappé",
         "Kylian Mbappé",
         "kylian-mbappe",
         "France",
         "1998-12-20",
         "3386.307589836996",
         "Kylian Mbappé - 2021"
        ]
       ],
       "shape": {
        "columns": 10,
        "rows": 20
       }
      },
      "text/html": [
       "<div>\n",
       "<style scoped>\n",
       "    .dataframe tbody tr th:only-of-type {\n",
       "        vertical-align: middle;\n",
       "    }\n",
       "\n",
       "    .dataframe tbody tr th {\n",
       "        vertical-align: top;\n",
       "    }\n",
       "\n",
       "    .dataframe thead th {\n",
       "        text-align: right;\n",
       "    }\n",
       "</style>\n",
       "<table border=\"1\" class=\"dataframe\">\n",
       "  <thead>\n",
       "    <tr style=\"text-align: right;\">\n",
       "      <th></th>\n",
       "      <th>player_id</th>\n",
       "      <th>season</th>\n",
       "      <th>first_name</th>\n",
       "      <th>last_name</th>\n",
       "      <th>name</th>\n",
       "      <th>player_code</th>\n",
       "      <th>country_of_birth</th>\n",
       "      <th>date_of_birth</th>\n",
       "      <th>elo</th>\n",
       "      <th>name_season</th>\n",
       "    </tr>\n",
       "  </thead>\n",
       "  <tbody>\n",
       "    <tr>\n",
       "      <th>0</th>\n",
       "      <td>8198</td>\n",
       "      <td>2015</td>\n",
       "      <td>None</td>\n",
       "      <td>Cristiano Ronaldo</td>\n",
       "      <td>Cristiano Ronaldo</td>\n",
       "      <td>cristiano-ronaldo</td>\n",
       "      <td>Portugal</td>\n",
       "      <td>1985-02-05</td>\n",
       "      <td>3445.138991</td>\n",
       "      <td>Cristiano Ronaldo - 2015</td>\n",
       "    </tr>\n",
       "    <tr>\n",
       "      <th>1</th>\n",
       "      <td>28003</td>\n",
       "      <td>2015</td>\n",
       "      <td>Lionel</td>\n",
       "      <td>Messi</td>\n",
       "      <td>Lionel Messi</td>\n",
       "      <td>lionel-messi</td>\n",
       "      <td>Argentina</td>\n",
       "      <td>1987-06-24</td>\n",
       "      <td>3445.135082</td>\n",
       "      <td>Lionel Messi - 2015</td>\n",
       "    </tr>\n",
       "    <tr>\n",
       "      <th>2</th>\n",
       "      <td>342229</td>\n",
       "      <td>2019</td>\n",
       "      <td>Kylian</td>\n",
       "      <td>Mbappé</td>\n",
       "      <td>Kylian Mbappé</td>\n",
       "      <td>kylian-mbappe</td>\n",
       "      <td>France</td>\n",
       "      <td>1998-12-20</td>\n",
       "      <td>3437.648135</td>\n",
       "      <td>Kylian Mbappé - 2019</td>\n",
       "    </tr>\n",
       "    <tr>\n",
       "      <th>3</th>\n",
       "      <td>28003</td>\n",
       "      <td>2016</td>\n",
       "      <td>Lionel</td>\n",
       "      <td>Messi</td>\n",
       "      <td>Lionel Messi</td>\n",
       "      <td>lionel-messi</td>\n",
       "      <td>Argentina</td>\n",
       "      <td>1987-06-24</td>\n",
       "      <td>3437.563209</td>\n",
       "      <td>Lionel Messi - 2016</td>\n",
       "    </tr>\n",
       "    <tr>\n",
       "      <th>4</th>\n",
       "      <td>342229</td>\n",
       "      <td>2020</td>\n",
       "      <td>Kylian</td>\n",
       "      <td>Mbappé</td>\n",
       "      <td>Kylian Mbappé</td>\n",
       "      <td>kylian-mbappe</td>\n",
       "      <td>France</td>\n",
       "      <td>1998-12-20</td>\n",
       "      <td>3431.065748</td>\n",
       "      <td>Kylian Mbappé - 2020</td>\n",
       "    </tr>\n",
       "    <tr>\n",
       "      <th>5</th>\n",
       "      <td>8198</td>\n",
       "      <td>2016</td>\n",
       "      <td>None</td>\n",
       "      <td>Cristiano Ronaldo</td>\n",
       "      <td>Cristiano Ronaldo</td>\n",
       "      <td>cristiano-ronaldo</td>\n",
       "      <td>Portugal</td>\n",
       "      <td>1985-02-05</td>\n",
       "      <td>3422.136071</td>\n",
       "      <td>Cristiano Ronaldo - 2016</td>\n",
       "    </tr>\n",
       "    <tr>\n",
       "      <th>6</th>\n",
       "      <td>68290</td>\n",
       "      <td>2019</td>\n",
       "      <td>None</td>\n",
       "      <td>Neymar</td>\n",
       "      <td>Neymar</td>\n",
       "      <td>neymar</td>\n",
       "      <td>Brazil</td>\n",
       "      <td>1992-02-05</td>\n",
       "      <td>3421.804897</td>\n",
       "      <td>Neymar - 2019</td>\n",
       "    </tr>\n",
       "    <tr>\n",
       "      <th>7</th>\n",
       "      <td>28003</td>\n",
       "      <td>2017</td>\n",
       "      <td>Lionel</td>\n",
       "      <td>Messi</td>\n",
       "      <td>Lionel Messi</td>\n",
       "      <td>lionel-messi</td>\n",
       "      <td>Argentina</td>\n",
       "      <td>1987-06-24</td>\n",
       "      <td>3418.193561</td>\n",
       "      <td>Lionel Messi - 2017</td>\n",
       "    </tr>\n",
       "    <tr>\n",
       "      <th>8</th>\n",
       "      <td>68290</td>\n",
       "      <td>2016</td>\n",
       "      <td>None</td>\n",
       "      <td>Neymar</td>\n",
       "      <td>Neymar</td>\n",
       "      <td>neymar</td>\n",
       "      <td>Brazil</td>\n",
       "      <td>1992-02-05</td>\n",
       "      <td>3407.862082</td>\n",
       "      <td>Neymar - 2016</td>\n",
       "    </tr>\n",
       "    <tr>\n",
       "      <th>9</th>\n",
       "      <td>8198</td>\n",
       "      <td>2014</td>\n",
       "      <td>None</td>\n",
       "      <td>Cristiano Ronaldo</td>\n",
       "      <td>Cristiano Ronaldo</td>\n",
       "      <td>cristiano-ronaldo</td>\n",
       "      <td>Portugal</td>\n",
       "      <td>1985-02-05</td>\n",
       "      <td>3406.562285</td>\n",
       "      <td>Cristiano Ronaldo - 2014</td>\n",
       "    </tr>\n",
       "    <tr>\n",
       "      <th>10</th>\n",
       "      <td>342229</td>\n",
       "      <td>2022</td>\n",
       "      <td>Kylian</td>\n",
       "      <td>Mbappé</td>\n",
       "      <td>Kylian Mbappé</td>\n",
       "      <td>kylian-mbappe</td>\n",
       "      <td>France</td>\n",
       "      <td>1998-12-20</td>\n",
       "      <td>3404.274354</td>\n",
       "      <td>Kylian Mbappé - 2022</td>\n",
       "    </tr>\n",
       "    <tr>\n",
       "      <th>11</th>\n",
       "      <td>28003</td>\n",
       "      <td>2019</td>\n",
       "      <td>Lionel</td>\n",
       "      <td>Messi</td>\n",
       "      <td>Lionel Messi</td>\n",
       "      <td>lionel-messi</td>\n",
       "      <td>Argentina</td>\n",
       "      <td>1987-06-24</td>\n",
       "      <td>3395.159351</td>\n",
       "      <td>Lionel Messi - 2019</td>\n",
       "    </tr>\n",
       "    <tr>\n",
       "      <th>12</th>\n",
       "      <td>418560</td>\n",
       "      <td>2022</td>\n",
       "      <td>Erling</td>\n",
       "      <td>Haaland</td>\n",
       "      <td>Erling Haaland</td>\n",
       "      <td>erling-haaland</td>\n",
       "      <td>England</td>\n",
       "      <td>2000-07-21</td>\n",
       "      <td>3394.027862</td>\n",
       "      <td>Erling Haaland - 2022</td>\n",
       "    </tr>\n",
       "    <tr>\n",
       "      <th>13</th>\n",
       "      <td>148455</td>\n",
       "      <td>2019</td>\n",
       "      <td>None</td>\n",
       "      <td>Mohamed Salah</td>\n",
       "      <td>Mohamed Salah</td>\n",
       "      <td>mohamed-salah</td>\n",
       "      <td>Egypt</td>\n",
       "      <td>1992-06-15</td>\n",
       "      <td>3391.972250</td>\n",
       "      <td>Mohamed Salah - 2019</td>\n",
       "    </tr>\n",
       "    <tr>\n",
       "      <th>14</th>\n",
       "      <td>28003</td>\n",
       "      <td>2014</td>\n",
       "      <td>Lionel</td>\n",
       "      <td>Messi</td>\n",
       "      <td>Lionel Messi</td>\n",
       "      <td>lionel-messi</td>\n",
       "      <td>Argentina</td>\n",
       "      <td>1987-06-24</td>\n",
       "      <td>3391.634458</td>\n",
       "      <td>Lionel Messi - 2014</td>\n",
       "    </tr>\n",
       "    <tr>\n",
       "      <th>15</th>\n",
       "      <td>50202</td>\n",
       "      <td>2019</td>\n",
       "      <td>Eden</td>\n",
       "      <td>Hazard</td>\n",
       "      <td>Eden Hazard</td>\n",
       "      <td>eden-hazard</td>\n",
       "      <td>Belgium</td>\n",
       "      <td>1991-01-07</td>\n",
       "      <td>3391.030100</td>\n",
       "      <td>Eden Hazard - 2019</td>\n",
       "    </tr>\n",
       "    <tr>\n",
       "      <th>16</th>\n",
       "      <td>44352</td>\n",
       "      <td>2016</td>\n",
       "      <td>Luis</td>\n",
       "      <td>Suárez</td>\n",
       "      <td>Luis Suárez</td>\n",
       "      <td>luis-suarez</td>\n",
       "      <td>Uruguay</td>\n",
       "      <td>1987-01-24</td>\n",
       "      <td>3390.761665</td>\n",
       "      <td>Luis Suárez - 2016</td>\n",
       "    </tr>\n",
       "    <tr>\n",
       "      <th>17</th>\n",
       "      <td>28003</td>\n",
       "      <td>2013</td>\n",
       "      <td>Lionel</td>\n",
       "      <td>Messi</td>\n",
       "      <td>Lionel Messi</td>\n",
       "      <td>lionel-messi</td>\n",
       "      <td>Argentina</td>\n",
       "      <td>1987-06-24</td>\n",
       "      <td>3389.765112</td>\n",
       "      <td>Lionel Messi - 2013</td>\n",
       "    </tr>\n",
       "    <tr>\n",
       "      <th>18</th>\n",
       "      <td>132098</td>\n",
       "      <td>2019</td>\n",
       "      <td>Harry</td>\n",
       "      <td>Kane</td>\n",
       "      <td>Harry Kane</td>\n",
       "      <td>harry-kane</td>\n",
       "      <td>England</td>\n",
       "      <td>1993-07-28</td>\n",
       "      <td>3389.286749</td>\n",
       "      <td>Harry Kane - 2019</td>\n",
       "    </tr>\n",
       "    <tr>\n",
       "      <th>19</th>\n",
       "      <td>342229</td>\n",
       "      <td>2021</td>\n",
       "      <td>Kylian</td>\n",
       "      <td>Mbappé</td>\n",
       "      <td>Kylian Mbappé</td>\n",
       "      <td>kylian-mbappe</td>\n",
       "      <td>France</td>\n",
       "      <td>1998-12-20</td>\n",
       "      <td>3386.307590</td>\n",
       "      <td>Kylian Mbappé - 2021</td>\n",
       "    </tr>\n",
       "  </tbody>\n",
       "</table>\n",
       "</div>"
      ],
      "text/plain": [
       "    player_id  season first_name          last_name               name  \\\n",
       "0        8198    2015       None  Cristiano Ronaldo  Cristiano Ronaldo   \n",
       "1       28003    2015     Lionel              Messi       Lionel Messi   \n",
       "2      342229    2019     Kylian             Mbappé      Kylian Mbappé   \n",
       "3       28003    2016     Lionel              Messi       Lionel Messi   \n",
       "4      342229    2020     Kylian             Mbappé      Kylian Mbappé   \n",
       "5        8198    2016       None  Cristiano Ronaldo  Cristiano Ronaldo   \n",
       "6       68290    2019       None             Neymar             Neymar   \n",
       "7       28003    2017     Lionel              Messi       Lionel Messi   \n",
       "8       68290    2016       None             Neymar             Neymar   \n",
       "9        8198    2014       None  Cristiano Ronaldo  Cristiano Ronaldo   \n",
       "10     342229    2022     Kylian             Mbappé      Kylian Mbappé   \n",
       "11      28003    2019     Lionel              Messi       Lionel Messi   \n",
       "12     418560    2022     Erling            Haaland     Erling Haaland   \n",
       "13     148455    2019       None      Mohamed Salah      Mohamed Salah   \n",
       "14      28003    2014     Lionel              Messi       Lionel Messi   \n",
       "15      50202    2019       Eden             Hazard        Eden Hazard   \n",
       "16      44352    2016       Luis             Suárez        Luis Suárez   \n",
       "17      28003    2013     Lionel              Messi       Lionel Messi   \n",
       "18     132098    2019      Harry               Kane         Harry Kane   \n",
       "19     342229    2021     Kylian             Mbappé      Kylian Mbappé   \n",
       "\n",
       "          player_code country_of_birth date_of_birth          elo  \\\n",
       "0   cristiano-ronaldo         Portugal    1985-02-05  3445.138991   \n",
       "1        lionel-messi        Argentina    1987-06-24  3445.135082   \n",
       "2       kylian-mbappe           France    1998-12-20  3437.648135   \n",
       "3        lionel-messi        Argentina    1987-06-24  3437.563209   \n",
       "4       kylian-mbappe           France    1998-12-20  3431.065748   \n",
       "5   cristiano-ronaldo         Portugal    1985-02-05  3422.136071   \n",
       "6              neymar           Brazil    1992-02-05  3421.804897   \n",
       "7        lionel-messi        Argentina    1987-06-24  3418.193561   \n",
       "8              neymar           Brazil    1992-02-05  3407.862082   \n",
       "9   cristiano-ronaldo         Portugal    1985-02-05  3406.562285   \n",
       "10      kylian-mbappe           France    1998-12-20  3404.274354   \n",
       "11       lionel-messi        Argentina    1987-06-24  3395.159351   \n",
       "12     erling-haaland          England    2000-07-21  3394.027862   \n",
       "13      mohamed-salah            Egypt    1992-06-15  3391.972250   \n",
       "14       lionel-messi        Argentina    1987-06-24  3391.634458   \n",
       "15        eden-hazard          Belgium    1991-01-07  3391.030100   \n",
       "16        luis-suarez          Uruguay    1987-01-24  3390.761665   \n",
       "17       lionel-messi        Argentina    1987-06-24  3389.765112   \n",
       "18         harry-kane          England    1993-07-28  3389.286749   \n",
       "19      kylian-mbappe           France    1998-12-20  3386.307590   \n",
       "\n",
       "                 name_season  \n",
       "0   Cristiano Ronaldo - 2015  \n",
       "1        Lionel Messi - 2015  \n",
       "2       Kylian Mbappé - 2019  \n",
       "3        Lionel Messi - 2016  \n",
       "4       Kylian Mbappé - 2020  \n",
       "5   Cristiano Ronaldo - 2016  \n",
       "6              Neymar - 2019  \n",
       "7        Lionel Messi - 2017  \n",
       "8              Neymar - 2016  \n",
       "9   Cristiano Ronaldo - 2014  \n",
       "10      Kylian Mbappé - 2022  \n",
       "11       Lionel Messi - 2019  \n",
       "12     Erling Haaland - 2022  \n",
       "13      Mohamed Salah - 2019  \n",
       "14       Lionel Messi - 2014  \n",
       "15        Eden Hazard - 2019  \n",
       "16        Luis Suárez - 2016  \n",
       "17       Lionel Messi - 2013  \n",
       "18         Harry Kane - 2019  \n",
       "19      Kylian Mbappé - 2021  "
      ]
     },
     "execution_count": 2,
     "metadata": {},
     "output_type": "execute_result"
    }
   ],
   "source": [
    "sort_by_elo['name_season'] = sort_by_elo['name'] + \" - \" + sort_by_elo['season'].astype(str) \n",
    "sort_by_elo"
   ]
  },
  {
   "cell_type": "code",
   "execution_count": null,
   "metadata": {},
   "outputs": [],
   "source": []
  },
  {
   "cell_type": "code",
   "execution_count": 3,
   "metadata": {},
   "outputs": [
    {
     "data": {
      "application/vnd.plotly.v1+json": {
       "config": {
        "plotlyServerURL": "https://plot.ly"
       },
       "data": [
        {
         "alignmentgroup": "True",
         "hovertemplate": "elo=%{marker.color}<br>name_season=%{y}<extra></extra>",
         "legendgroup": "",
         "marker": {
          "color": [
           3445.1389912922305,
           3445.135082463437,
           3437.6481350006916,
           3437.563208529639,
           3431.065747812123,
           3422.1360709875416,
           3421.804897272244,
           3418.1935609843717,
           3407.8620815299596,
           3406.5622847080076,
           3404.274354258665,
           3395.1593512254667,
           3394.027862371979,
           3391.9722498907136,
           3391.6344581071226,
           3391.0301004107973,
           3390.761664562657,
           3389.7651123414157,
           3389.2867491306465,
           3386.307589836996
          ],
          "coloraxis": "coloraxis",
          "pattern": {
           "shape": ""
          }
         },
         "name": "",
         "offsetgroup": "",
         "orientation": "h",
         "showlegend": false,
         "textposition": "auto",
         "type": "bar",
         "x": [
          3445.1389912922305,
          3445.135082463437,
          3437.6481350006916,
          3437.563208529639,
          3431.065747812123,
          3422.1360709875416,
          3421.804897272244,
          3418.1935609843717,
          3407.8620815299596,
          3406.5622847080076,
          3404.274354258665,
          3395.1593512254667,
          3394.027862371979,
          3391.9722498907136,
          3391.6344581071226,
          3391.0301004107973,
          3390.761664562657,
          3389.7651123414157,
          3389.2867491306465,
          3386.307589836996
         ],
         "xaxis": "x",
         "y": [
          "Cristiano Ronaldo - 2015",
          "Lionel Messi - 2015",
          "Kylian Mbappé - 2019",
          "Lionel Messi - 2016",
          "Kylian Mbappé - 2020",
          "Cristiano Ronaldo - 2016",
          "Neymar - 2019",
          "Lionel Messi - 2017",
          "Neymar - 2016",
          "Cristiano Ronaldo - 2014",
          "Kylian Mbappé - 2022",
          "Lionel Messi - 2019",
          "Erling Haaland - 2022",
          "Mohamed Salah - 2019",
          "Lionel Messi - 2014",
          "Eden Hazard - 2019",
          "Luis Suárez - 2016",
          "Lionel Messi - 2013",
          "Harry Kane - 2019",
          "Kylian Mbappé - 2021"
         ],
         "yaxis": "y"
        }
       ],
       "layout": {
        "barmode": "relative",
        "coloraxis": {
         "colorbar": {
          "title": {
           "text": "elo"
          }
         },
         "colorscale": [
          [
           0,
           "rgb(255,245,240)"
          ],
          [
           0.125,
           "rgb(254,224,210)"
          ],
          [
           0.25,
           "rgb(252,187,161)"
          ],
          [
           0.375,
           "rgb(252,146,114)"
          ],
          [
           0.5,
           "rgb(251,106,74)"
          ],
          [
           0.625,
           "rgb(239,59,44)"
          ],
          [
           0.75,
           "rgb(203,24,29)"
          ],
          [
           0.875,
           "rgb(165,15,21)"
          ],
          [
           1,
           "rgb(103,0,13)"
          ]
         ]
        },
        "height": 700,
        "legend": {
         "tracegroupgap": 0
        },
        "margin": {
         "t": 60
        },
        "plot_bgcolor": "rgb(56,0,60)",
        "template": {
         "data": {
          "bar": [
           {
            "error_x": {
             "color": "#2a3f5f"
            },
            "error_y": {
             "color": "#2a3f5f"
            },
            "marker": {
             "line": {
              "color": "#E5ECF6",
              "width": 0.5
             },
             "pattern": {
              "fillmode": "overlay",
              "size": 10,
              "solidity": 0.2
             }
            },
            "type": "bar"
           }
          ],
          "barpolar": [
           {
            "marker": {
             "line": {
              "color": "#E5ECF6",
              "width": 0.5
             },
             "pattern": {
              "fillmode": "overlay",
              "size": 10,
              "solidity": 0.2
             }
            },
            "type": "barpolar"
           }
          ],
          "carpet": [
           {
            "aaxis": {
             "endlinecolor": "#2a3f5f",
             "gridcolor": "white",
             "linecolor": "white",
             "minorgridcolor": "white",
             "startlinecolor": "#2a3f5f"
            },
            "baxis": {
             "endlinecolor": "#2a3f5f",
             "gridcolor": "white",
             "linecolor": "white",
             "minorgridcolor": "white",
             "startlinecolor": "#2a3f5f"
            },
            "type": "carpet"
           }
          ],
          "choropleth": [
           {
            "colorbar": {
             "outlinewidth": 0,
             "ticks": ""
            },
            "type": "choropleth"
           }
          ],
          "contour": [
           {
            "colorbar": {
             "outlinewidth": 0,
             "ticks": ""
            },
            "colorscale": [
             [
              0,
              "#0d0887"
             ],
             [
              0.1111111111111111,
              "#46039f"
             ],
             [
              0.2222222222222222,
              "#7201a8"
             ],
             [
              0.3333333333333333,
              "#9c179e"
             ],
             [
              0.4444444444444444,
              "#bd3786"
             ],
             [
              0.5555555555555556,
              "#d8576b"
             ],
             [
              0.6666666666666666,
              "#ed7953"
             ],
             [
              0.7777777777777778,
              "#fb9f3a"
             ],
             [
              0.8888888888888888,
              "#fdca26"
             ],
             [
              1,
              "#f0f921"
             ]
            ],
            "type": "contour"
           }
          ],
          "contourcarpet": [
           {
            "colorbar": {
             "outlinewidth": 0,
             "ticks": ""
            },
            "type": "contourcarpet"
           }
          ],
          "heatmap": [
           {
            "colorbar": {
             "outlinewidth": 0,
             "ticks": ""
            },
            "colorscale": [
             [
              0,
              "#0d0887"
             ],
             [
              0.1111111111111111,
              "#46039f"
             ],
             [
              0.2222222222222222,
              "#7201a8"
             ],
             [
              0.3333333333333333,
              "#9c179e"
             ],
             [
              0.4444444444444444,
              "#bd3786"
             ],
             [
              0.5555555555555556,
              "#d8576b"
             ],
             [
              0.6666666666666666,
              "#ed7953"
             ],
             [
              0.7777777777777778,
              "#fb9f3a"
             ],
             [
              0.8888888888888888,
              "#fdca26"
             ],
             [
              1,
              "#f0f921"
             ]
            ],
            "type": "heatmap"
           }
          ],
          "heatmapgl": [
           {
            "colorbar": {
             "outlinewidth": 0,
             "ticks": ""
            },
            "colorscale": [
             [
              0,
              "#0d0887"
             ],
             [
              0.1111111111111111,
              "#46039f"
             ],
             [
              0.2222222222222222,
              "#7201a8"
             ],
             [
              0.3333333333333333,
              "#9c179e"
             ],
             [
              0.4444444444444444,
              "#bd3786"
             ],
             [
              0.5555555555555556,
              "#d8576b"
             ],
             [
              0.6666666666666666,
              "#ed7953"
             ],
             [
              0.7777777777777778,
              "#fb9f3a"
             ],
             [
              0.8888888888888888,
              "#fdca26"
             ],
             [
              1,
              "#f0f921"
             ]
            ],
            "type": "heatmapgl"
           }
          ],
          "histogram": [
           {
            "marker": {
             "pattern": {
              "fillmode": "overlay",
              "size": 10,
              "solidity": 0.2
             }
            },
            "type": "histogram"
           }
          ],
          "histogram2d": [
           {
            "colorbar": {
             "outlinewidth": 0,
             "ticks": ""
            },
            "colorscale": [
             [
              0,
              "#0d0887"
             ],
             [
              0.1111111111111111,
              "#46039f"
             ],
             [
              0.2222222222222222,
              "#7201a8"
             ],
             [
              0.3333333333333333,
              "#9c179e"
             ],
             [
              0.4444444444444444,
              "#bd3786"
             ],
             [
              0.5555555555555556,
              "#d8576b"
             ],
             [
              0.6666666666666666,
              "#ed7953"
             ],
             [
              0.7777777777777778,
              "#fb9f3a"
             ],
             [
              0.8888888888888888,
              "#fdca26"
             ],
             [
              1,
              "#f0f921"
             ]
            ],
            "type": "histogram2d"
           }
          ],
          "histogram2dcontour": [
           {
            "colorbar": {
             "outlinewidth": 0,
             "ticks": ""
            },
            "colorscale": [
             [
              0,
              "#0d0887"
             ],
             [
              0.1111111111111111,
              "#46039f"
             ],
             [
              0.2222222222222222,
              "#7201a8"
             ],
             [
              0.3333333333333333,
              "#9c179e"
             ],
             [
              0.4444444444444444,
              "#bd3786"
             ],
             [
              0.5555555555555556,
              "#d8576b"
             ],
             [
              0.6666666666666666,
              "#ed7953"
             ],
             [
              0.7777777777777778,
              "#fb9f3a"
             ],
             [
              0.8888888888888888,
              "#fdca26"
             ],
             [
              1,
              "#f0f921"
             ]
            ],
            "type": "histogram2dcontour"
           }
          ],
          "mesh3d": [
           {
            "colorbar": {
             "outlinewidth": 0,
             "ticks": ""
            },
            "type": "mesh3d"
           }
          ],
          "parcoords": [
           {
            "line": {
             "colorbar": {
              "outlinewidth": 0,
              "ticks": ""
             }
            },
            "type": "parcoords"
           }
          ],
          "pie": [
           {
            "automargin": true,
            "type": "pie"
           }
          ],
          "scatter": [
           {
            "fillpattern": {
             "fillmode": "overlay",
             "size": 10,
             "solidity": 0.2
            },
            "type": "scatter"
           }
          ],
          "scatter3d": [
           {
            "line": {
             "colorbar": {
              "outlinewidth": 0,
              "ticks": ""
             }
            },
            "marker": {
             "colorbar": {
              "outlinewidth": 0,
              "ticks": ""
             }
            },
            "type": "scatter3d"
           }
          ],
          "scattercarpet": [
           {
            "marker": {
             "colorbar": {
              "outlinewidth": 0,
              "ticks": ""
             }
            },
            "type": "scattercarpet"
           }
          ],
          "scattergeo": [
           {
            "marker": {
             "colorbar": {
              "outlinewidth": 0,
              "ticks": ""
             }
            },
            "type": "scattergeo"
           }
          ],
          "scattergl": [
           {
            "marker": {
             "colorbar": {
              "outlinewidth": 0,
              "ticks": ""
             }
            },
            "type": "scattergl"
           }
          ],
          "scattermapbox": [
           {
            "marker": {
             "colorbar": {
              "outlinewidth": 0,
              "ticks": ""
             }
            },
            "type": "scattermapbox"
           }
          ],
          "scatterpolar": [
           {
            "marker": {
             "colorbar": {
              "outlinewidth": 0,
              "ticks": ""
             }
            },
            "type": "scatterpolar"
           }
          ],
          "scatterpolargl": [
           {
            "marker": {
             "colorbar": {
              "outlinewidth": 0,
              "ticks": ""
             }
            },
            "type": "scatterpolargl"
           }
          ],
          "scatterternary": [
           {
            "marker": {
             "colorbar": {
              "outlinewidth": 0,
              "ticks": ""
             }
            },
            "type": "scatterternary"
           }
          ],
          "surface": [
           {
            "colorbar": {
             "outlinewidth": 0,
             "ticks": ""
            },
            "colorscale": [
             [
              0,
              "#0d0887"
             ],
             [
              0.1111111111111111,
              "#46039f"
             ],
             [
              0.2222222222222222,
              "#7201a8"
             ],
             [
              0.3333333333333333,
              "#9c179e"
             ],
             [
              0.4444444444444444,
              "#bd3786"
             ],
             [
              0.5555555555555556,
              "#d8576b"
             ],
             [
              0.6666666666666666,
              "#ed7953"
             ],
             [
              0.7777777777777778,
              "#fb9f3a"
             ],
             [
              0.8888888888888888,
              "#fdca26"
             ],
             [
              1,
              "#f0f921"
             ]
            ],
            "type": "surface"
           }
          ],
          "table": [
           {
            "cells": {
             "fill": {
              "color": "#EBF0F8"
             },
             "line": {
              "color": "white"
             }
            },
            "header": {
             "fill": {
              "color": "#C8D4E3"
             },
             "line": {
              "color": "white"
             }
            },
            "type": "table"
           }
          ]
         },
         "layout": {
          "annotationdefaults": {
           "arrowcolor": "#2a3f5f",
           "arrowhead": 0,
           "arrowwidth": 1
          },
          "autotypenumbers": "strict",
          "coloraxis": {
           "colorbar": {
            "outlinewidth": 0,
            "ticks": ""
           }
          },
          "colorscale": {
           "diverging": [
            [
             0,
             "#8e0152"
            ],
            [
             0.1,
             "#c51b7d"
            ],
            [
             0.2,
             "#de77ae"
            ],
            [
             0.3,
             "#f1b6da"
            ],
            [
             0.4,
             "#fde0ef"
            ],
            [
             0.5,
             "#f7f7f7"
            ],
            [
             0.6,
             "#e6f5d0"
            ],
            [
             0.7,
             "#b8e186"
            ],
            [
             0.8,
             "#7fbc41"
            ],
            [
             0.9,
             "#4d9221"
            ],
            [
             1,
             "#276419"
            ]
           ],
           "sequential": [
            [
             0,
             "#0d0887"
            ],
            [
             0.1111111111111111,
             "#46039f"
            ],
            [
             0.2222222222222222,
             "#7201a8"
            ],
            [
             0.3333333333333333,
             "#9c179e"
            ],
            [
             0.4444444444444444,
             "#bd3786"
            ],
            [
             0.5555555555555556,
             "#d8576b"
            ],
            [
             0.6666666666666666,
             "#ed7953"
            ],
            [
             0.7777777777777778,
             "#fb9f3a"
            ],
            [
             0.8888888888888888,
             "#fdca26"
            ],
            [
             1,
             "#f0f921"
            ]
           ],
           "sequentialminus": [
            [
             0,
             "#0d0887"
            ],
            [
             0.1111111111111111,
             "#46039f"
            ],
            [
             0.2222222222222222,
             "#7201a8"
            ],
            [
             0.3333333333333333,
             "#9c179e"
            ],
            [
             0.4444444444444444,
             "#bd3786"
            ],
            [
             0.5555555555555556,
             "#d8576b"
            ],
            [
             0.6666666666666666,
             "#ed7953"
            ],
            [
             0.7777777777777778,
             "#fb9f3a"
            ],
            [
             0.8888888888888888,
             "#fdca26"
            ],
            [
             1,
             "#f0f921"
            ]
           ]
          },
          "colorway": [
           "#636efa",
           "#EF553B",
           "#00cc96",
           "#ab63fa",
           "#FFA15A",
           "#19d3f3",
           "#FF6692",
           "#B6E880",
           "#FF97FF",
           "#FECB52"
          ],
          "font": {
           "color": "#2a3f5f"
          },
          "geo": {
           "bgcolor": "white",
           "lakecolor": "white",
           "landcolor": "#E5ECF6",
           "showlakes": true,
           "showland": true,
           "subunitcolor": "white"
          },
          "hoverlabel": {
           "align": "left"
          },
          "hovermode": "closest",
          "mapbox": {
           "style": "light"
          },
          "paper_bgcolor": "white",
          "plot_bgcolor": "#E5ECF6",
          "polar": {
           "angularaxis": {
            "gridcolor": "white",
            "linecolor": "white",
            "ticks": ""
           },
           "bgcolor": "#E5ECF6",
           "radialaxis": {
            "gridcolor": "white",
            "linecolor": "white",
            "ticks": ""
           }
          },
          "scene": {
           "xaxis": {
            "backgroundcolor": "#E5ECF6",
            "gridcolor": "white",
            "gridwidth": 2,
            "linecolor": "white",
            "showbackground": true,
            "ticks": "",
            "zerolinecolor": "white"
           },
           "yaxis": {
            "backgroundcolor": "#E5ECF6",
            "gridcolor": "white",
            "gridwidth": 2,
            "linecolor": "white",
            "showbackground": true,
            "ticks": "",
            "zerolinecolor": "white"
           },
           "zaxis": {
            "backgroundcolor": "#E5ECF6",
            "gridcolor": "white",
            "gridwidth": 2,
            "linecolor": "white",
            "showbackground": true,
            "ticks": "",
            "zerolinecolor": "white"
           }
          },
          "shapedefaults": {
           "line": {
            "color": "#2a3f5f"
           }
          },
          "ternary": {
           "aaxis": {
            "gridcolor": "white",
            "linecolor": "white",
            "ticks": ""
           },
           "baxis": {
            "gridcolor": "white",
            "linecolor": "white",
            "ticks": ""
           },
           "bgcolor": "#E5ECF6",
           "caxis": {
            "gridcolor": "white",
            "linecolor": "white",
            "ticks": ""
           }
          },
          "title": {
           "x": 0.05
          },
          "xaxis": {
           "automargin": true,
           "gridcolor": "white",
           "linecolor": "white",
           "ticks": "",
           "title": {
            "standoff": 15
           },
           "zerolinecolor": "white",
           "zerolinewidth": 2
          },
          "yaxis": {
           "automargin": true,
           "gridcolor": "white",
           "linecolor": "white",
           "ticks": "",
           "title": {
            "standoff": 15
           },
           "zerolinecolor": "white",
           "zerolinewidth": 2
          }
         }
        },
        "title": {
         "text": "Seasonal ELOs of players top 20"
        },
        "xaxis": {
         "anchor": "y",
         "domain": [
          0,
          1
         ],
         "showgrid": false,
         "title": {
          "text": "Seasonal ELOs"
         }
        },
        "yaxis": {
         "anchor": "x",
         "domain": [
          0,
          1
         ],
         "showgrid": false,
         "title": {
          "text": "Players"
         }
        }
       }
      }
     },
     "metadata": {},
     "output_type": "display_data"
    }
   ],
   "source": [
    "\n",
    "fig = px.bar(sort_by_elo, y='name_season', x='elo', color='elo', color_continuous_scale='reds')\n",
    "# fig = px.bar(sort_by_elo, y='name', x='elo')\n",
    "\n",
    "fig.update_layout(height=700,title='Seasonal ELOs of players top 20',\n",
    "                  plot_bgcolor='rgb(56,0,60)')\n",
    "\n",
    "fig.update_yaxes(title_text='Players',showgrid=False)\n",
    "fig.update_xaxes(title_text='Seasonal ELOs', showgrid=False)\n",
    "fig.show()"
   ]
  },
  {
   "cell_type": "code",
   "execution_count": null,
   "metadata": {},
   "outputs": [
    {
     "data": {
      "application/vnd.microsoft.datawrangler.viewer.v0+json": {
       "columns": [
        {
         "name": "index",
         "rawType": "int64",
         "type": "integer"
        },
        {
         "name": "player_id",
         "rawType": "int64",
         "type": "integer"
        },
        {
         "name": "season",
         "rawType": "int64",
         "type": "integer"
        },
        {
         "name": "first_name",
         "rawType": "object",
         "type": "unknown"
        },
        {
         "name": "last_name",
         "rawType": "object",
         "type": "string"
        },
        {
         "name": "name",
         "rawType": "object",
         "type": "string"
        },
        {
         "name": "player_code",
         "rawType": "object",
         "type": "string"
        },
        {
         "name": "country_of_birth",
         "rawType": "object",
         "type": "string"
        },
        {
         "name": "date_of_birth",
         "rawType": "object",
         "type": "unknown"
        },
        {
         "name": "elo",
         "rawType": "float64",
         "type": "float"
        },
        {
         "name": "name_season",
         "rawType": "object",
         "type": "string"
        }
       ],
       "conversionMethod": "pd.DataFrame",
       "ref": "26e92e20-1874-41fe-8f9a-41d29baf0f94",
       "rows": [
        [
         "1",
         "8198",
         "2004",
         null,
         "Cristiano Ronaldo",
         "Cristiano Ronaldo",
         "cristiano-ronaldo",
         "Portugal",
         "1985-02-05",
         "3006.463183613306",
         "Cristiano Ronaldo - 2004"
        ],
        [
         "6",
         "8198",
         "2005",
         null,
         "Cristiano Ronaldo",
         "Cristiano Ronaldo",
         "cristiano-ronaldo",
         "Portugal",
         "1985-02-05",
         "3027.587223922726",
         "Cristiano Ronaldo - 2005"
        ],
        [
         "15",
         "8198",
         "2006",
         null,
         "Cristiano Ronaldo",
         "Cristiano Ronaldo",
         "cristiano-ronaldo",
         "Portugal",
         "1985-02-05",
         "3046.2726475959585",
         "Cristiano Ronaldo - 2006"
        ],
        [
         "16",
         "8198",
         "2007",
         null,
         "Cristiano Ronaldo",
         "Cristiano Ronaldo",
         "cristiano-ronaldo",
         "Portugal",
         "1985-02-05",
         "3117.1192192968406",
         "Cristiano Ronaldo - 2007"
        ],
        [
         "10",
         "8198",
         "2022",
         null,
         "Cristiano Ronaldo",
         "Cristiano Ronaldo",
         "cristiano-ronaldo",
         "Portugal",
         "1985-02-05",
         "3138.5046174256704",
         "Cristiano Ronaldo - 2022"
        ],
        [
         "7",
         "8198",
         "2008",
         null,
         "Cristiano Ronaldo",
         "Cristiano Ronaldo",
         "cristiano-ronaldo",
         "Portugal",
         "1985-02-05",
         "3171.1911783318074",
         "Cristiano Ronaldo - 2008"
        ],
        [
         "9",
         "8198",
         "2021",
         null,
         "Cristiano Ronaldo",
         "Cristiano Ronaldo",
         "cristiano-ronaldo",
         "Portugal",
         "1985-02-05",
         "3204.2489064170936",
         "Cristiano Ronaldo - 2021"
        ],
        [
         "2",
         "8198",
         "2009",
         null,
         "Cristiano Ronaldo",
         "Cristiano Ronaldo",
         "cristiano-ronaldo",
         "Portugal",
         "1985-02-05",
         "3240.740403133059",
         "Cristiano Ronaldo - 2009"
        ],
        [
         "8",
         "8198",
         "2010",
         null,
         "Cristiano Ronaldo",
         "Cristiano Ronaldo",
         "cristiano-ronaldo",
         "Portugal",
         "1985-02-05",
         "3251.6712097522077",
         "Cristiano Ronaldo - 2010"
        ],
        [
         "13",
         "8198",
         "2020",
         null,
         "Cristiano Ronaldo",
         "Cristiano Ronaldo",
         "cristiano-ronaldo",
         "Portugal",
         "1985-02-05",
         "3256.2827203013862",
         "Cristiano Ronaldo - 2020"
        ],
        [
         "18",
         "8198",
         "2019",
         null,
         "Cristiano Ronaldo",
         "Cristiano Ronaldo",
         "cristiano-ronaldo",
         "Portugal",
         "1985-02-05",
         "3294.860535683345",
         "Cristiano Ronaldo - 2019"
        ],
        [
         "5",
         "8198",
         "2018",
         null,
         "Cristiano Ronaldo",
         "Cristiano Ronaldo",
         "cristiano-ronaldo",
         "Portugal",
         "1985-02-05",
         "3318.1163659097247",
         "Cristiano Ronaldo - 2018"
        ],
        [
         "3",
         "8198",
         "2011",
         null,
         "Cristiano Ronaldo",
         "Cristiano Ronaldo",
         "cristiano-ronaldo",
         "Portugal",
         "1985-02-05",
         "3319.8525167895555",
         "Cristiano Ronaldo - 2011"
        ],
        [
         "14",
         "8198",
         "2012",
         null,
         "Cristiano Ronaldo",
         "Cristiano Ronaldo",
         "cristiano-ronaldo",
         "Portugal",
         "1985-02-05",
         "3345.2339942824688",
         "Cristiano Ronaldo - 2012"
        ],
        [
         "17",
         "8198",
         "2017",
         null,
         "Cristiano Ronaldo",
         "Cristiano Ronaldo",
         "cristiano-ronaldo",
         "Portugal",
         "1985-02-05",
         "3354.626602561648",
         "Cristiano Ronaldo - 2017"
        ],
        [
         "11",
         "8198",
         "2013",
         null,
         "Cristiano Ronaldo",
         "Cristiano Ronaldo",
         "cristiano-ronaldo",
         "Portugal",
         "1985-02-05",
         "3368.044360024702",
         "Cristiano Ronaldo - 2013"
        ],
        [
         "0",
         "8198",
         "2014",
         null,
         "Cristiano Ronaldo",
         "Cristiano Ronaldo",
         "cristiano-ronaldo",
         "Portugal",
         "1985-02-05",
         "3406.5622847080076",
         "Cristiano Ronaldo - 2014"
        ],
        [
         "12",
         "8198",
         "2016",
         null,
         "Cristiano Ronaldo",
         "Cristiano Ronaldo",
         "cristiano-ronaldo",
         "Portugal",
         "1985-02-05",
         "3422.1360709875416",
         "Cristiano Ronaldo - 2016"
        ],
        [
         "4",
         "8198",
         "2015",
         null,
         "Cristiano Ronaldo",
         "Cristiano Ronaldo",
         "cristiano-ronaldo",
         "Portugal",
         "1985-02-05",
         "3445.1389912922305",
         "Cristiano Ronaldo - 2015"
        ]
       ],
       "shape": {
        "columns": 10,
        "rows": 19
       }
      },
      "text/html": [
       "<div>\n",
       "<style scoped>\n",
       "    .dataframe tbody tr th:only-of-type {\n",
       "        vertical-align: middle;\n",
       "    }\n",
       "\n",
       "    .dataframe tbody tr th {\n",
       "        vertical-align: top;\n",
       "    }\n",
       "\n",
       "    .dataframe thead th {\n",
       "        text-align: right;\n",
       "    }\n",
       "</style>\n",
       "<table border=\"1\" class=\"dataframe\">\n",
       "  <thead>\n",
       "    <tr style=\"text-align: right;\">\n",
       "      <th></th>\n",
       "      <th>player_id</th>\n",
       "      <th>season</th>\n",
       "      <th>first_name</th>\n",
       "      <th>last_name</th>\n",
       "      <th>name</th>\n",
       "      <th>player_code</th>\n",
       "      <th>country_of_birth</th>\n",
       "      <th>date_of_birth</th>\n",
       "      <th>elo</th>\n",
       "      <th>name_season</th>\n",
       "    </tr>\n",
       "  </thead>\n",
       "  <tbody>\n",
       "    <tr>\n",
       "      <th>1</th>\n",
       "      <td>8198</td>\n",
       "      <td>2004</td>\n",
       "      <td>None</td>\n",
       "      <td>Cristiano Ronaldo</td>\n",
       "      <td>Cristiano Ronaldo</td>\n",
       "      <td>cristiano-ronaldo</td>\n",
       "      <td>Portugal</td>\n",
       "      <td>1985-02-05</td>\n",
       "      <td>3006.463184</td>\n",
       "      <td>Cristiano Ronaldo - 2004</td>\n",
       "    </tr>\n",
       "    <tr>\n",
       "      <th>6</th>\n",
       "      <td>8198</td>\n",
       "      <td>2005</td>\n",
       "      <td>None</td>\n",
       "      <td>Cristiano Ronaldo</td>\n",
       "      <td>Cristiano Ronaldo</td>\n",
       "      <td>cristiano-ronaldo</td>\n",
       "      <td>Portugal</td>\n",
       "      <td>1985-02-05</td>\n",
       "      <td>3027.587224</td>\n",
       "      <td>Cristiano Ronaldo - 2005</td>\n",
       "    </tr>\n",
       "    <tr>\n",
       "      <th>15</th>\n",
       "      <td>8198</td>\n",
       "      <td>2006</td>\n",
       "      <td>None</td>\n",
       "      <td>Cristiano Ronaldo</td>\n",
       "      <td>Cristiano Ronaldo</td>\n",
       "      <td>cristiano-ronaldo</td>\n",
       "      <td>Portugal</td>\n",
       "      <td>1985-02-05</td>\n",
       "      <td>3046.272648</td>\n",
       "      <td>Cristiano Ronaldo - 2006</td>\n",
       "    </tr>\n",
       "    <tr>\n",
       "      <th>16</th>\n",
       "      <td>8198</td>\n",
       "      <td>2007</td>\n",
       "      <td>None</td>\n",
       "      <td>Cristiano Ronaldo</td>\n",
       "      <td>Cristiano Ronaldo</td>\n",
       "      <td>cristiano-ronaldo</td>\n",
       "      <td>Portugal</td>\n",
       "      <td>1985-02-05</td>\n",
       "      <td>3117.119219</td>\n",
       "      <td>Cristiano Ronaldo - 2007</td>\n",
       "    </tr>\n",
       "    <tr>\n",
       "      <th>10</th>\n",
       "      <td>8198</td>\n",
       "      <td>2022</td>\n",
       "      <td>None</td>\n",
       "      <td>Cristiano Ronaldo</td>\n",
       "      <td>Cristiano Ronaldo</td>\n",
       "      <td>cristiano-ronaldo</td>\n",
       "      <td>Portugal</td>\n",
       "      <td>1985-02-05</td>\n",
       "      <td>3138.504617</td>\n",
       "      <td>Cristiano Ronaldo - 2022</td>\n",
       "    </tr>\n",
       "    <tr>\n",
       "      <th>7</th>\n",
       "      <td>8198</td>\n",
       "      <td>2008</td>\n",
       "      <td>None</td>\n",
       "      <td>Cristiano Ronaldo</td>\n",
       "      <td>Cristiano Ronaldo</td>\n",
       "      <td>cristiano-ronaldo</td>\n",
       "      <td>Portugal</td>\n",
       "      <td>1985-02-05</td>\n",
       "      <td>3171.191178</td>\n",
       "      <td>Cristiano Ronaldo - 2008</td>\n",
       "    </tr>\n",
       "    <tr>\n",
       "      <th>9</th>\n",
       "      <td>8198</td>\n",
       "      <td>2021</td>\n",
       "      <td>None</td>\n",
       "      <td>Cristiano Ronaldo</td>\n",
       "      <td>Cristiano Ronaldo</td>\n",
       "      <td>cristiano-ronaldo</td>\n",
       "      <td>Portugal</td>\n",
       "      <td>1985-02-05</td>\n",
       "      <td>3204.248906</td>\n",
       "      <td>Cristiano Ronaldo - 2021</td>\n",
       "    </tr>\n",
       "    <tr>\n",
       "      <th>2</th>\n",
       "      <td>8198</td>\n",
       "      <td>2009</td>\n",
       "      <td>None</td>\n",
       "      <td>Cristiano Ronaldo</td>\n",
       "      <td>Cristiano Ronaldo</td>\n",
       "      <td>cristiano-ronaldo</td>\n",
       "      <td>Portugal</td>\n",
       "      <td>1985-02-05</td>\n",
       "      <td>3240.740403</td>\n",
       "      <td>Cristiano Ronaldo - 2009</td>\n",
       "    </tr>\n",
       "    <tr>\n",
       "      <th>8</th>\n",
       "      <td>8198</td>\n",
       "      <td>2010</td>\n",
       "      <td>None</td>\n",
       "      <td>Cristiano Ronaldo</td>\n",
       "      <td>Cristiano Ronaldo</td>\n",
       "      <td>cristiano-ronaldo</td>\n",
       "      <td>Portugal</td>\n",
       "      <td>1985-02-05</td>\n",
       "      <td>3251.671210</td>\n",
       "      <td>Cristiano Ronaldo - 2010</td>\n",
       "    </tr>\n",
       "    <tr>\n",
       "      <th>13</th>\n",
       "      <td>8198</td>\n",
       "      <td>2020</td>\n",
       "      <td>None</td>\n",
       "      <td>Cristiano Ronaldo</td>\n",
       "      <td>Cristiano Ronaldo</td>\n",
       "      <td>cristiano-ronaldo</td>\n",
       "      <td>Portugal</td>\n",
       "      <td>1985-02-05</td>\n",
       "      <td>3256.282720</td>\n",
       "      <td>Cristiano Ronaldo - 2020</td>\n",
       "    </tr>\n",
       "    <tr>\n",
       "      <th>18</th>\n",
       "      <td>8198</td>\n",
       "      <td>2019</td>\n",
       "      <td>None</td>\n",
       "      <td>Cristiano Ronaldo</td>\n",
       "      <td>Cristiano Ronaldo</td>\n",
       "      <td>cristiano-ronaldo</td>\n",
       "      <td>Portugal</td>\n",
       "      <td>1985-02-05</td>\n",
       "      <td>3294.860536</td>\n",
       "      <td>Cristiano Ronaldo - 2019</td>\n",
       "    </tr>\n",
       "    <tr>\n",
       "      <th>5</th>\n",
       "      <td>8198</td>\n",
       "      <td>2018</td>\n",
       "      <td>None</td>\n",
       "      <td>Cristiano Ronaldo</td>\n",
       "      <td>Cristiano Ronaldo</td>\n",
       "      <td>cristiano-ronaldo</td>\n",
       "      <td>Portugal</td>\n",
       "      <td>1985-02-05</td>\n",
       "      <td>3318.116366</td>\n",
       "      <td>Cristiano Ronaldo - 2018</td>\n",
       "    </tr>\n",
       "    <tr>\n",
       "      <th>3</th>\n",
       "      <td>8198</td>\n",
       "      <td>2011</td>\n",
       "      <td>None</td>\n",
       "      <td>Cristiano Ronaldo</td>\n",
       "      <td>Cristiano Ronaldo</td>\n",
       "      <td>cristiano-ronaldo</td>\n",
       "      <td>Portugal</td>\n",
       "      <td>1985-02-05</td>\n",
       "      <td>3319.852517</td>\n",
       "      <td>Cristiano Ronaldo - 2011</td>\n",
       "    </tr>\n",
       "    <tr>\n",
       "      <th>14</th>\n",
       "      <td>8198</td>\n",
       "      <td>2012</td>\n",
       "      <td>None</td>\n",
       "      <td>Cristiano Ronaldo</td>\n",
       "      <td>Cristiano Ronaldo</td>\n",
       "      <td>cristiano-ronaldo</td>\n",
       "      <td>Portugal</td>\n",
       "      <td>1985-02-05</td>\n",
       "      <td>3345.233994</td>\n",
       "      <td>Cristiano Ronaldo - 2012</td>\n",
       "    </tr>\n",
       "    <tr>\n",
       "      <th>17</th>\n",
       "      <td>8198</td>\n",
       "      <td>2017</td>\n",
       "      <td>None</td>\n",
       "      <td>Cristiano Ronaldo</td>\n",
       "      <td>Cristiano Ronaldo</td>\n",
       "      <td>cristiano-ronaldo</td>\n",
       "      <td>Portugal</td>\n",
       "      <td>1985-02-05</td>\n",
       "      <td>3354.626603</td>\n",
       "      <td>Cristiano Ronaldo - 2017</td>\n",
       "    </tr>\n",
       "    <tr>\n",
       "      <th>11</th>\n",
       "      <td>8198</td>\n",
       "      <td>2013</td>\n",
       "      <td>None</td>\n",
       "      <td>Cristiano Ronaldo</td>\n",
       "      <td>Cristiano Ronaldo</td>\n",
       "      <td>cristiano-ronaldo</td>\n",
       "      <td>Portugal</td>\n",
       "      <td>1985-02-05</td>\n",
       "      <td>3368.044360</td>\n",
       "      <td>Cristiano Ronaldo - 2013</td>\n",
       "    </tr>\n",
       "    <tr>\n",
       "      <th>0</th>\n",
       "      <td>8198</td>\n",
       "      <td>2014</td>\n",
       "      <td>None</td>\n",
       "      <td>Cristiano Ronaldo</td>\n",
       "      <td>Cristiano Ronaldo</td>\n",
       "      <td>cristiano-ronaldo</td>\n",
       "      <td>Portugal</td>\n",
       "      <td>1985-02-05</td>\n",
       "      <td>3406.562285</td>\n",
       "      <td>Cristiano Ronaldo - 2014</td>\n",
       "    </tr>\n",
       "    <tr>\n",
       "      <th>12</th>\n",
       "      <td>8198</td>\n",
       "      <td>2016</td>\n",
       "      <td>None</td>\n",
       "      <td>Cristiano Ronaldo</td>\n",
       "      <td>Cristiano Ronaldo</td>\n",
       "      <td>cristiano-ronaldo</td>\n",
       "      <td>Portugal</td>\n",
       "      <td>1985-02-05</td>\n",
       "      <td>3422.136071</td>\n",
       "      <td>Cristiano Ronaldo - 2016</td>\n",
       "    </tr>\n",
       "    <tr>\n",
       "      <th>4</th>\n",
       "      <td>8198</td>\n",
       "      <td>2015</td>\n",
       "      <td>None</td>\n",
       "      <td>Cristiano Ronaldo</td>\n",
       "      <td>Cristiano Ronaldo</td>\n",
       "      <td>cristiano-ronaldo</td>\n",
       "      <td>Portugal</td>\n",
       "      <td>1985-02-05</td>\n",
       "      <td>3445.138991</td>\n",
       "      <td>Cristiano Ronaldo - 2015</td>\n",
       "    </tr>\n",
       "  </tbody>\n",
       "</table>\n",
       "</div>"
      ],
      "text/plain": [
       "    player_id  season first_name          last_name               name  \\\n",
       "1        8198    2004       None  Cristiano Ronaldo  Cristiano Ronaldo   \n",
       "6        8198    2005       None  Cristiano Ronaldo  Cristiano Ronaldo   \n",
       "15       8198    2006       None  Cristiano Ronaldo  Cristiano Ronaldo   \n",
       "16       8198    2007       None  Cristiano Ronaldo  Cristiano Ronaldo   \n",
       "10       8198    2022       None  Cristiano Ronaldo  Cristiano Ronaldo   \n",
       "7        8198    2008       None  Cristiano Ronaldo  Cristiano Ronaldo   \n",
       "9        8198    2021       None  Cristiano Ronaldo  Cristiano Ronaldo   \n",
       "2        8198    2009       None  Cristiano Ronaldo  Cristiano Ronaldo   \n",
       "8        8198    2010       None  Cristiano Ronaldo  Cristiano Ronaldo   \n",
       "13       8198    2020       None  Cristiano Ronaldo  Cristiano Ronaldo   \n",
       "18       8198    2019       None  Cristiano Ronaldo  Cristiano Ronaldo   \n",
       "5        8198    2018       None  Cristiano Ronaldo  Cristiano Ronaldo   \n",
       "3        8198    2011       None  Cristiano Ronaldo  Cristiano Ronaldo   \n",
       "14       8198    2012       None  Cristiano Ronaldo  Cristiano Ronaldo   \n",
       "17       8198    2017       None  Cristiano Ronaldo  Cristiano Ronaldo   \n",
       "11       8198    2013       None  Cristiano Ronaldo  Cristiano Ronaldo   \n",
       "0        8198    2014       None  Cristiano Ronaldo  Cristiano Ronaldo   \n",
       "12       8198    2016       None  Cristiano Ronaldo  Cristiano Ronaldo   \n",
       "4        8198    2015       None  Cristiano Ronaldo  Cristiano Ronaldo   \n",
       "\n",
       "          player_code country_of_birth date_of_birth          elo  \\\n",
       "1   cristiano-ronaldo         Portugal    1985-02-05  3006.463184   \n",
       "6   cristiano-ronaldo         Portugal    1985-02-05  3027.587224   \n",
       "15  cristiano-ronaldo         Portugal    1985-02-05  3046.272648   \n",
       "16  cristiano-ronaldo         Portugal    1985-02-05  3117.119219   \n",
       "10  cristiano-ronaldo         Portugal    1985-02-05  3138.504617   \n",
       "7   cristiano-ronaldo         Portugal    1985-02-05  3171.191178   \n",
       "9   cristiano-ronaldo         Portugal    1985-02-05  3204.248906   \n",
       "2   cristiano-ronaldo         Portugal    1985-02-05  3240.740403   \n",
       "8   cristiano-ronaldo         Portugal    1985-02-05  3251.671210   \n",
       "13  cristiano-ronaldo         Portugal    1985-02-05  3256.282720   \n",
       "18  cristiano-ronaldo         Portugal    1985-02-05  3294.860536   \n",
       "5   cristiano-ronaldo         Portugal    1985-02-05  3318.116366   \n",
       "3   cristiano-ronaldo         Portugal    1985-02-05  3319.852517   \n",
       "14  cristiano-ronaldo         Portugal    1985-02-05  3345.233994   \n",
       "17  cristiano-ronaldo         Portugal    1985-02-05  3354.626603   \n",
       "11  cristiano-ronaldo         Portugal    1985-02-05  3368.044360   \n",
       "0   cristiano-ronaldo         Portugal    1985-02-05  3406.562285   \n",
       "12  cristiano-ronaldo         Portugal    1985-02-05  3422.136071   \n",
       "4   cristiano-ronaldo         Portugal    1985-02-05  3445.138991   \n",
       "\n",
       "                 name_season  \n",
       "1   Cristiano Ronaldo - 2004  \n",
       "6   Cristiano Ronaldo - 2005  \n",
       "15  Cristiano Ronaldo - 2006  \n",
       "16  Cristiano Ronaldo - 2007  \n",
       "10  Cristiano Ronaldo - 2022  \n",
       "7   Cristiano Ronaldo - 2008  \n",
       "9   Cristiano Ronaldo - 2021  \n",
       "2   Cristiano Ronaldo - 2009  \n",
       "8   Cristiano Ronaldo - 2010  \n",
       "13  Cristiano Ronaldo - 2020  \n",
       "18  Cristiano Ronaldo - 2019  \n",
       "5   Cristiano Ronaldo - 2018  \n",
       "3   Cristiano Ronaldo - 2011  \n",
       "14  Cristiano Ronaldo - 2012  \n",
       "17  Cristiano Ronaldo - 2017  \n",
       "11  Cristiano Ronaldo - 2013  \n",
       "0   Cristiano Ronaldo - 2014  \n",
       "12  Cristiano Ronaldo - 2016  \n",
       "4   Cristiano Ronaldo - 2015  "
      ]
     },
     "execution_count": 12,
     "metadata": {},
     "output_type": "execute_result"
    }
   ],
   "source": [
    "\n",
    "from pandas import DataFrame\n",
    "from sqlalchemy import text\n",
    "from toelo.player_elo.database_connection import get_engine\n",
    "    \n",
    "player_name = 'Cristiano Ronaldo'\n",
    "# player_name = 'Ronaldo Shani'\n",
    "engine = get_engine()\n",
    "with engine.connect() as conn:\n",
    "    res = conn.execute(\n",
    "        text(\"\"\"SELECT * FROM players_elo WHERE name LIKE :x\"\"\"), {\"x\": player_name}\n",
    "    ).fetchall()\n",
    "\n",
    "df = DataFrame(res)\n",
    "# df.columns = res.keys()\n",
    "df.dropna(subset=['elo'], inplace=True)\n",
    "sort_by_elo = df.sort_values('elo', ascending=True)\n",
    "sort_by_elo['name_season'] = sort_by_elo['name'] + \" - \" + sort_by_elo['season'].astype(str) \n",
    "return sort_by_elo"
   ]
  }
 ],
 "metadata": {
  "kernelspec": {
   "display_name": ".venv",
   "language": "python",
   "name": "python3"
  },
  "language_info": {
   "codemirror_mode": {
    "name": "ipython",
    "version": 3
   },
   "file_extension": ".py",
   "mimetype": "text/x-python",
   "name": "python",
   "nbconvert_exporter": "python",
   "pygments_lexer": "ipython3",
   "version": "3.12.3"
  }
 },
 "nbformat": 4,
 "nbformat_minor": 2
}
