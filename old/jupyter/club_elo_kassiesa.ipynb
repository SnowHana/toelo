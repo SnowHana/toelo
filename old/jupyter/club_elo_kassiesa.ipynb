{
 "cells": [
  {
   "cell_type": "code",
   "execution_count": 1,
   "metadata": {},
   "outputs": [],
   "source": [
    "from datetime import datetime\n",
    "import io\n",
    "import requests\n",
    "import pandas as pd\n",
    "from pathlib import Path\n",
    "import time\n",
    "import os\n",
    "from bs4 import BeautifulSoup"
   ]
  },
  {
   "cell_type": "code",
   "execution_count": 2,
   "metadata": {},
   "outputs": [],
   "source": [
    "# response = requests.get(f\"https://kassiesa.net/uefa/data/method4/trank2012.html\")\n",
    "# Since it uses different method\n",
    "#TODO : Try else (method4, or method5)\n",
    "df = pd.read_html('https://kassiesa.net/uefa/data/method5/trank2023.html')[0]\n"
   ]
  },
  {
   "cell_type": "code",
   "execution_count": 3,
   "metadata": {},
   "outputs": [],
   "source": [
    "# Cleaning df\n",
    "df.drop(df.columns[[0, 1]], axis=1, inplace=True)\n",
    "# new_columns = ['name', 'country']\n",
    "df.rename(columns={df.columns[0]: 'name', df.columns[1]: 'country'}, inplace=True)"
   ]
  },
  {
   "cell_type": "code",
   "execution_count": 4,
   "metadata": {},
   "outputs": [],
   "source": [
    "BASE_DIR = Path.cwd()\n",
    "DATA_DIR = BASE_DIR.parents[0] / \"transfer_data\"\n",
    "CLUBS_FILE = \"clubs.csv\"\n",
    "ELOS_FILE = \"club_elos.csv\"\n",
    "\n",
    "# Load CSV data\n",
    "clubs_df = pd.read_csv(os.path.join(DATA_DIR, CLUBS_FILE), sep=\",\", encoding=\"UTF-8\")"
   ]
  },
  {
   "cell_type": "code",
   "execution_count": 10,
   "metadata": {},
   "outputs": [],
   "source": [
    "from fuzzywuzzy import fuzz, process\n",
    "\n",
    "# Define the fuzzy merge function\n",
    "def fuzzy_merge(\n",
    "    df_1, df_2, key1, key2, threshold=90, limit=2, scorer=fuzz.partial_ratio\n",
    "):\n",
    "    \"\"\"\n",
    "    Fuzzy merge two dataframes based on a similarity score.\n",
    "    \"\"\"\n",
    "    s = df_2[key2].tolist()\n",
    "    m = df_1[key1].apply(lambda x: process.extract(x, s, limit=limit, scorer=scorer))\n",
    "    df_1[\"matches\"] = m\n",
    "    df_1[\"matches\"] = df_1[\"matches\"].apply(\n",
    "        lambda x: \", \".join([i[0] for i in x if i[1] >= threshold])\n",
    "    )\n",
    "\n",
    "    # df_1 = df_1.set_index(list(df_1)[0])\n",
    "    # df_1 = df_1.reset_index(drop=True)\n",
    "    return df_1\n",
    "\n"
   ]
  },
  {
   "cell_type": "code",
   "execution_count": 11,
   "metadata": {},
   "outputs": [],
   "source": [
    "\n",
    "# Initialize the unmatched dataframe\n",
    "unmatched_df = df.copy()\n",
    "\n",
    "# Define different configurations for fuzzy_merge\n",
    "configurations = [\n",
    "    {\"threshold\": 85, \"limit\": 1, \"scorer\": fuzz.partial_ratio},\n",
    "    {\"threshold\": 80, \"limit\": 1, \"scorer\": fuzz.partial_ratio},\n",
    "    {\"threshold\": 75, \"limit\": 1, \"scorer\": fuzz.partial_ratio},\n",
    "]\n",
    "\n",
    "# Loop through each configuration and perform fuzzy matching\n",
    "all_results = []\n",
    "counter = 0\n",
    "for config in configurations:\n",
    "    # Perform fuzzy merge\n",
    "    matched_df = fuzzy_merge(\n",
    "        unmatched_df.copy(),\n",
    "        clubs_df,\n",
    "        \"name\",\n",
    "        \"name\",\n",
    "        threshold=config[\"threshold\"],\n",
    "        limit=config[\"limit\"],\n",
    "        scorer=config[\"scorer\"],\n",
    "    )\n",
    "\n",
    "    # Save the intermediate results for each iteration\n",
    "    # Reset index\n",
    "    # matched_df = matched_df.set_index(list(matched_df)[0])\n",
    "    # matched_df = matched_df.reset_index(drop=True)\n",
    "    # print(matched_df.columns)\n",
    "    matched_df.to_csv(\n",
    "        f\"match_V{counter}.csv\",\n",
    "        index=True,\n",
    "    )\n",
    "    counter += 1\n",
    "\n",
    "    # Filter out matched rows\n",
    "    matched_clubs = matched_df[matched_df[\"matches\"] != \"\"]\n",
    "    matched_names = matched_clubs[\"matches\"].str.split(\", \").explode().unique()\n",
    "\n",
    "    # Remove matched clubs from clubs_df and unmatched_df\n",
    "    clubs_df = clubs_df[~clubs_df[\"name\"].isin(matched_names)]\n",
    "    unmatched_df = unmatched_df[~unmatched_df[\"name\"].isin(matched_clubs[\"name\"])]\n",
    "\n",
    "    # Append current iteration's matched results to all_results\n",
    "    all_results.append(matched_clubs)\n",
    "\n",
    "# Combine all matched results and save\n",
    "final_result = pd.concat(all_results, ignore_index=True)\n",
    "final_result.to_csv(\"final_match.csv\", index=False)\n",
    "\n",
    "# Save unmatched entries\n",
    "unmatched_df.to_csv(\"unmatched.csv\", index=False)\n"
   ]
  }
 ],
 "metadata": {
  "kernelspec": {
   "display_name": "footy",
   "language": "python",
   "name": "python3"
  },
  "language_info": {
   "codemirror_mode": {
    "name": "ipython",
    "version": 3
   },
   "file_extension": ".py",
   "mimetype": "text/x-python",
   "name": "python",
   "nbconvert_exporter": "python",
   "pygments_lexer": "ipython3",
   "version": "3.12.2"
  }
 },
 "nbformat": 4,
 "nbformat_minor": 2
}
