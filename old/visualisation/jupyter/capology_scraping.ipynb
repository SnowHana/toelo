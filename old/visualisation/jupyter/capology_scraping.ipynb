{
 "cells": [
  {
   "cell_type": "markdown",
   "metadata": {},
   "source": [
    "# Capology Scraping Notebook\n",
    "- Scrapes wage, transfer fee from Capology\n",
    "- Right now limited to **Premiere League teams**, later on can be extended\n"
   ]
  },
  {
   "cell_type": "code",
   "execution_count": 3,
   "metadata": {},
   "outputs": [],
   "source": [
    "from matplotlib import pyplot as plt\n",
    "import requests\n",
    "from bs4 import BeautifulSoup\n",
    "import pandas as pd\n",
    "import time\n",
    "from io import StringIO\n",
    "import os\n",
    "import time"
   ]
  },
  {
   "cell_type": "code",
   "execution_count": 4,
   "metadata": {},
   "outputs": [],
   "source": [
    "standings_url = 'https://www.capology.com/uk/premier-league/transfer-window/'\n",
    "data = requests.get(standings_url)\n",
    "soup = BeautifulSoup(data.text, features=\"lxml\")\n",
    "standings_table = soup.select(\"table\")\n"
   ]
  },
  {
   "cell_type": "code",
   "execution_count": 6,
   "metadata": {},
   "outputs": [
    {
     "data": {
      "text/plain": [
       "<table data-filter-control=\"true\" data-page-list=\"[5, 10, 15, 20, 25, All]\" data-page-size=\"All\" data-pagination=\"true\" data-pagination-next-text=\"Previous\" data-pagination-parts=\"['pageSize','pageList']\" data-pagination-pre-text=\"Next\" data-pagination-v-align=\"both\" data-search=\"true\" data-search-accent-neutralise=\"true\" data-show-footer=\"true\" data-sort-name=\"income_gbp\" data-sort-order=\"desc\" id=\"table\">\n",
       "<thead>\n",
       "<tr class=\"table-header\">\n",
       "<th colspan=\"1\"></th>\n",
       "<th class=\"border-right-column\" colspan=\"9\">Transfer Operations</th>\n",
       "<th class=\"border-right-column\" colspan=\"3\" data-halign=\"left\">Inlfation (2024)</th>\n",
       "<th colspan=\"3\">Squad Stats</th>\n",
       "</tr>\n",
       "<tr>\n",
       "<th class=\"name-column\" data-field=\"club\" data-filter-control=\"input\" data-footer-formatter=\"idFormatter\" data-searchable=\"true\" data-sort-order=\"asc\" data-sortable=\"true\" data-sorter=\"linksSorter\">Club</th><th class=\"money-column\" data-field=\"income_eur\" data-footer-formatter=\"totalFormatterEUR\" data-sort-order=\"desc\" data-sortable=\"true\" data-sorter=\"AmountSorterEUR\" data-visible=\"false\">Income<br/>(EUR, K)</th>\n",
       "<th class=\"money-column\" data-field=\"income_gbp\" data-footer-formatter=\"totalFormatterGBP\" data-sort-order=\"desc\" data-sortable=\"true\" data-sorter=\"AmountSorterGBP\">Income<br/>(GBP, K)</th>\n",
       "<th class=\"money-column\" data-field=\"income_usd\" data-footer-formatter=\"totalFormatterUSD\" data-sort-order=\"desc\" data-sortable=\"true\" data-sorter=\"AmountSorterUSD\" data-visible=\"false\">Income<br/>(USD, K)</th>\n",
       "<th class=\"money-column\" data-field=\"expense_eur\" data-footer-formatter=\"totalFormatterEUR\" data-sort-order=\"desc\" data-sortable=\"true\" data-sorter=\"AmountSorterEUR\" data-visible=\"false\">Expense<br/>(EUR, K)</th>\n",
       "<th class=\"money-column\" data-field=\"expense_gbp\" data-footer-formatter=\"totalFormatterGBP\" data-sort-order=\"desc\" data-sortable=\"true\" data-sorter=\"AmountSorterGBP\">Expense<br/>(GBP, K)</th>\n",
       "<th class=\"money-column\" data-field=\"expense_usd\" data-footer-formatter=\"totalFormatterUSD\" data-sort-order=\"desc\" data-sortable=\"true\" data-sorter=\"AmountSorterUSD\" data-visible=\"false\">Expense<br/>(USD, K)</th>\n",
       "<th class=\"money-column border-right-column\" data-field=\"balance_eur\" data-footer-formatter=\"totalFormatterEUR\" data-sort-order=\"desc\" data-sortable=\"true\" data-sorter=\"AmountSorterEUR\" data-visible=\"false\">Balance<br/>(EUR, K)</th>\n",
       "<th class=\"money-column border-right-column\" data-field=\"balance_gbp\" data-footer-formatter=\"totalFormatterGBP\" data-sort-order=\"desc\" data-sortable=\"true\" data-sorter=\"AmountSorterGBP\">Balance<br/>(GBP, K)</th>\n",
       "<th class=\"money-column border-right-column\" data-field=\"balance_usd\" data-footer-formatter=\"totalFormatterUSD\" data-sort-order=\"desc\" data-sortable=\"true\" data-sorter=\"AmountSorterUSD\" data-visible=\"false\">Balance<br/>(USD, K)</th>\n",
       "<th class=\"money-column border-right-column\" data-field=\"adjbalance_eur\" data-footer-formatter=\"totalFormatterEUR\" data-sort-order=\"desc\" data-sortable=\"true\" data-sorter=\"AmountSorterEUR\" data-visible=\"false\">Adj. Balance<br/>(EUR, K)</th>\n",
       "<th class=\"money-column border-right-column\" data-field=\"adjbalance_gbp\" data-footer-formatter=\"totalFormatterGBP\" data-sort-order=\"desc\" data-sortable=\"true\" data-sorter=\"AmountSorterGBP\">Adj. Balance<br/>(GBP, K)</th>\n",
       "<th class=\"money-column border-right-column\" data-field=\"adjbalance_usd\" data-footer-formatter=\"totalFormatterUSD\" data-sort-order=\"desc\" data-sortable=\"true\" data-sorter=\"AmountSorterUSD\" data-visible=\"false\">Adj. Balance<br/>(USD, K)</th><th data-field=\"players\" data-filter-control=\"input\" data-sort-order=\"desc\" data-sortable=\"true\" data-width=\"100\">Total Players</th>\n",
       "<th data-field=\"foreign\" data-filter-control=\"input\" data-sort-order=\"desc\" data-sortable=\"true\" data-width=\"100\">Foreign Players</th>\n",
       "<th data-field=\"age\" data-filter-control=\"input\" data-sort-order=\"desc\" data-sortable=\"true\" data-width=\"100\">Avg. Age</th>\n",
       "</tr>\n",
       "</thead>\n",
       "</table>"
      ]
     },
     "execution_count": 6,
     "metadata": {},
     "output_type": "execute_result"
    }
   ],
   "source": [
    "standings_table = standings_table[0]\n",
    "standings_table"
   ]
  },
  {
   "cell_type": "code",
   "execution_count": 7,
   "metadata": {},
   "outputs": [],
   "source": [
    " # Initialize lists to store table data\n",
    "headers = []\n",
    "rows = []\n",
    "\n",
    "# Extract table headers\n",
    "for th in standings_table.find_all(\"th\"):\n",
    "    headers.append(th.text.strip())\n",
    "\n",
    "# Extract standings_table rows\n",
    "for tr in standings_table.find_all(\"tr\"):\n",
    "    row = []\n",
    "    for td in tr.find_all(\"td\"):\n",
    "        row.append(td.text.strip())\n",
    "    if row:\n",
    "        rows.append(row)"
   ]
  },
  {
   "cell_type": "code",
   "execution_count": 9,
   "metadata": {},
   "outputs": [
    {
     "data": {
      "text/plain": [
       "['',\n",
       " 'Transfer Operations',\n",
       " 'Inlfation (2024)',\n",
       " 'Squad Stats',\n",
       " 'Club',\n",
       " 'Income(EUR, K)',\n",
       " 'Income(GBP, K)',\n",
       " 'Income(USD, K)',\n",
       " 'Expense(EUR, K)',\n",
       " 'Expense(GBP, K)',\n",
       " 'Expense(USD, K)',\n",
       " 'Balance(EUR, K)',\n",
       " 'Balance(GBP, K)',\n",
       " 'Balance(USD, K)',\n",
       " 'Adj. Balance(EUR, K)',\n",
       " 'Adj. Balance(GBP, K)',\n",
       " 'Adj. Balance(USD, K)',\n",
       " 'Total Players',\n",
       " 'Foreign Players',\n",
       " 'Avg. Age']"
      ]
     },
     "execution_count": 9,
     "metadata": {},
     "output_type": "execute_result"
    }
   ],
   "source": [
    "headers\n"
   ]
  },
  {
   "cell_type": "code",
   "execution_count": 10,
   "metadata": {},
   "outputs": [
    {
     "data": {
      "text/plain": [
       "[]"
      ]
     },
     "execution_count": 10,
     "metadata": {},
     "output_type": "execute_result"
    }
   ],
   "source": [
    "rows"
   ]
  }
 ],
 "metadata": {
  "kernelspec": {
   "display_name": "ml",
   "language": "python",
   "name": "python3"
  },
  "language_info": {
   "codemirror_mode": {
    "name": "ipython",
    "version": 3
   },
   "file_extension": ".py",
   "mimetype": "text/x-python",
   "name": "python",
   "nbconvert_exporter": "python",
   "pygments_lexer": "ipython3",
   "version": "3.12.2"
  }
 },
 "nbformat": 4,
 "nbformat_minor": 2
}
